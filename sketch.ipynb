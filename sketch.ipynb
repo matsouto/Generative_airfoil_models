{
 "cells": [
  {
   "cell_type": "code",
   "execution_count": 1,
   "metadata": {},
   "outputs": [],
   "source": [
    "%load_ext autoreload\n",
    "%autoreload 2\n",
    "\n",
    "import os\n",
    "import sys\n",
    "\n",
    "# Build an absolute path from this notebook's parent directory\n",
    "module_path = os.path.abspath(os.getcwd())\n",
    "\n",
    "# Add to sys.path if not already present\n",
    "if module_path not in sys.path:\n",
    "   sys.path.append(module_path)\n",
    "\n",
    "import numpy as np\n",
    "from aerosandbox import Airfoil, KulfanAirfoil\n",
    "from src.airfoil import airfoil_modifications\n",
    "\n",
    "import plotly.graph_objects as go"
   ]
  },
  {
   "cell_type": "code",
   "execution_count": 2,
   "metadata": {},
   "outputs": [
    {
     "name": "stderr",
     "output_type": "stream",
     "text": [
      "2025-10-20 22:15:13.219339: I external/local_xla/xla/tsl/cuda/cudart_stub.cc:31] Could not find cuda drivers on your machine, GPU will not be used.\n",
      "2025-10-20 22:15:14.535097: I tensorflow/core/platform/cpu_feature_guard.cc:210] This TensorFlow binary is optimized to use available CPU instructions in performance-critical operations.\n",
      "To enable the following instructions: AVX2 FMA, in other operations, rebuild TensorFlow with the appropriate compiler flags.\n",
      "2025-10-20 22:15:18.843872: I external/local_xla/xla/tsl/cuda/cudart_stub.cc:31] Could not find cuda drivers on your machine, GPU will not be used.\n",
      "2025-10-20 22:15:20.103006: E external/local_xla/xla/stream_executor/cuda/cuda_platform.cc:51] failed call to cuInit: INTERNAL: CUDA error: Failed call to cuInit: UNKNOWN ERROR (303)\n"
     ]
    },
    {
     "data": {
      "application/vnd.plotly.v1+json": {
       "config": {
        "plotlyServerURL": "https://plot.ly"
       },
       "data": [
        {
         "fill": "toself",
         "line": {
          "color": "blue"
         },
         "mode": "lines+markers",
         "name": "Untitled",
         "type": "scatter",
         "x": {
          "bdata": "AACAP3rifz/0iX8/mPZ+P6oofj+IIH0/rN57P6xjej82sHg/EsV2PyOjdD9lS3I/7b5vP+n+bD+bDGo/YelmP62WYz8HFmA/D2lcP3SRWD/+kFQ/hGlQP/AcTD9CrUc/gRxDP8psPj9GoDk/Lrk0P8O5Lz9UpCo/OHslP9JAID+K9xo/0qEVPx9CED/s2go/t24FPwAAAD+TIvU+KkrqPsN73z5evNQ+7RDKPl1+vz6SCbU+WreqPnyMoD6kjZY+cr+MPm4mgz4AjnM+/EphPj6MTz70WT4+DLwtPjK6HT7GWw4+wE//PZhK4z38tMg9LJuvPcAImD2YCII9sElbPdjNNT3orhM9YPnpPICKszxwKoQ8IN43PECr6zsAtIQ7ABjsOgA07DkAAAAAADTsOQAY7DoAtIQ7QKvrOyDeNzxwKoQ8gIqzPGD56TzorhM92M01PbBJWz2YCII9wAiYPSybrz38tMg9mErjPcBP/z3GWw4+MrodPgy8LT70WT4+PoxPPvxKYT4AjnM+biaDPnK/jD6kjZY+fIygPlq3qj6SCbU+XX6/Pu0Qyj5evNQ+w3vfPipK6j6TIvU+AAAAP7duBT/s2go/H0IQP9KhFT+K9xo/0kAgPzh7JT9UpCo/w7kvPy65ND9GoDk/ymw+P4EcQz9CrUc/8BxMP4RpUD/+kFQ/dJFYPw9pXD8HFmA/rZZjP2HpZj+bDGo/6f5sP+2+bz9lS3I/I6N0PxLFdj82sHg/rGN6P6zeez+IIH0/qih+P5j2fj/0iX8/euJ/PwAAgD8=",
          "dtype": "f4"
         },
         "y": {
          "bdata": "AAAAAElrt7YCIa23DD8wuHQHh7hKIKu4gqu3uGIiorgvAki4jSYBNjjEkTixDB45dWB7OdwyrTkJ8No5MdwCOkhFFzp7kCw64BpGOs62aDplOI06ZhSxOmGD4zrq9RM7GplAOyqzeDtRX547ukbGO4uc8zuExxI8J3ktPGolSTzq7mQ8YeN/PDaEjDyvtJc8zhKhPPg+qDwq8Kw8ZPiuPDJHrjyK6qo8IQ2lPHTznDwX95I8L4GHPPYIdjz17ls8R55BPAP0JzxxuA88KjDzO0c7zDv/Was7Av6QO/h6eju6ol87uTJQO2lMSjuGlks7Am1ROxwaWTuNEmA7li1kO7TQYztLCV47sY9SO8i0QTtlPCw7uSwTO7o17zq6/bQ6aldyOlm98jkAAAAA2tEKuuPDh7rLPcS6UHH4utpHEbsAvSC7NWUqu8pmLru0OC27hJUnu5NtHrvK2BK7EAsGuwmV8rrQz9u6y2/KukQYwbpsVcK6EobQuoe/7bqE1g276LUtuyG0VrvKT4S77Wmhu1EawrsjmOW7e3IFvAprGLzcECu8j7c8vHG0TLwdaFq8EkhlvCHnbLwK/HC8eGZxvEEwbryGjGe8Q9NdvGh6UbwSDUO8UiEzvClOIrwLIhG8YBsAvIhG37seFsC70Biju2qXiLsWb2G7zQk3u2fzEbuSF+S63EyuuvUagrpG/z26fK8IutpQxbkLypO55OpvuRG+WLlYkVa5ujxeudHvZbkhJGa5llJauURHQbnz/xy52yrkuGWGjbhD0Qa4Dn4MtwAAAAA=",
          "dtype": "f4"
         }
        }
       ],
       "layout": {
        "template": {
         "data": {
          "bar": [
           {
            "error_x": {
             "color": "#2a3f5f"
            },
            "error_y": {
             "color": "#2a3f5f"
            },
            "marker": {
             "line": {
              "color": "#E5ECF6",
              "width": 0.5
             },
             "pattern": {
              "fillmode": "overlay",
              "size": 10,
              "solidity": 0.2
             }
            },
            "type": "bar"
           }
          ],
          "barpolar": [
           {
            "marker": {
             "line": {
              "color": "#E5ECF6",
              "width": 0.5
             },
             "pattern": {
              "fillmode": "overlay",
              "size": 10,
              "solidity": 0.2
             }
            },
            "type": "barpolar"
           }
          ],
          "carpet": [
           {
            "aaxis": {
             "endlinecolor": "#2a3f5f",
             "gridcolor": "white",
             "linecolor": "white",
             "minorgridcolor": "white",
             "startlinecolor": "#2a3f5f"
            },
            "baxis": {
             "endlinecolor": "#2a3f5f",
             "gridcolor": "white",
             "linecolor": "white",
             "minorgridcolor": "white",
             "startlinecolor": "#2a3f5f"
            },
            "type": "carpet"
           }
          ],
          "choropleth": [
           {
            "colorbar": {
             "outlinewidth": 0,
             "ticks": ""
            },
            "type": "choropleth"
           }
          ],
          "contour": [
           {
            "colorbar": {
             "outlinewidth": 0,
             "ticks": ""
            },
            "colorscale": [
             [
              0,
              "#0d0887"
             ],
             [
              0.1111111111111111,
              "#46039f"
             ],
             [
              0.2222222222222222,
              "#7201a8"
             ],
             [
              0.3333333333333333,
              "#9c179e"
             ],
             [
              0.4444444444444444,
              "#bd3786"
             ],
             [
              0.5555555555555556,
              "#d8576b"
             ],
             [
              0.6666666666666666,
              "#ed7953"
             ],
             [
              0.7777777777777778,
              "#fb9f3a"
             ],
             [
              0.8888888888888888,
              "#fdca26"
             ],
             [
              1,
              "#f0f921"
             ]
            ],
            "type": "contour"
           }
          ],
          "contourcarpet": [
           {
            "colorbar": {
             "outlinewidth": 0,
             "ticks": ""
            },
            "type": "contourcarpet"
           }
          ],
          "heatmap": [
           {
            "colorbar": {
             "outlinewidth": 0,
             "ticks": ""
            },
            "colorscale": [
             [
              0,
              "#0d0887"
             ],
             [
              0.1111111111111111,
              "#46039f"
             ],
             [
              0.2222222222222222,
              "#7201a8"
             ],
             [
              0.3333333333333333,
              "#9c179e"
             ],
             [
              0.4444444444444444,
              "#bd3786"
             ],
             [
              0.5555555555555556,
              "#d8576b"
             ],
             [
              0.6666666666666666,
              "#ed7953"
             ],
             [
              0.7777777777777778,
              "#fb9f3a"
             ],
             [
              0.8888888888888888,
              "#fdca26"
             ],
             [
              1,
              "#f0f921"
             ]
            ],
            "type": "heatmap"
           }
          ],
          "histogram": [
           {
            "marker": {
             "pattern": {
              "fillmode": "overlay",
              "size": 10,
              "solidity": 0.2
             }
            },
            "type": "histogram"
           }
          ],
          "histogram2d": [
           {
            "colorbar": {
             "outlinewidth": 0,
             "ticks": ""
            },
            "colorscale": [
             [
              0,
              "#0d0887"
             ],
             [
              0.1111111111111111,
              "#46039f"
             ],
             [
              0.2222222222222222,
              "#7201a8"
             ],
             [
              0.3333333333333333,
              "#9c179e"
             ],
             [
              0.4444444444444444,
              "#bd3786"
             ],
             [
              0.5555555555555556,
              "#d8576b"
             ],
             [
              0.6666666666666666,
              "#ed7953"
             ],
             [
              0.7777777777777778,
              "#fb9f3a"
             ],
             [
              0.8888888888888888,
              "#fdca26"
             ],
             [
              1,
              "#f0f921"
             ]
            ],
            "type": "histogram2d"
           }
          ],
          "histogram2dcontour": [
           {
            "colorbar": {
             "outlinewidth": 0,
             "ticks": ""
            },
            "colorscale": [
             [
              0,
              "#0d0887"
             ],
             [
              0.1111111111111111,
              "#46039f"
             ],
             [
              0.2222222222222222,
              "#7201a8"
             ],
             [
              0.3333333333333333,
              "#9c179e"
             ],
             [
              0.4444444444444444,
              "#bd3786"
             ],
             [
              0.5555555555555556,
              "#d8576b"
             ],
             [
              0.6666666666666666,
              "#ed7953"
             ],
             [
              0.7777777777777778,
              "#fb9f3a"
             ],
             [
              0.8888888888888888,
              "#fdca26"
             ],
             [
              1,
              "#f0f921"
             ]
            ],
            "type": "histogram2dcontour"
           }
          ],
          "mesh3d": [
           {
            "colorbar": {
             "outlinewidth": 0,
             "ticks": ""
            },
            "type": "mesh3d"
           }
          ],
          "parcoords": [
           {
            "line": {
             "colorbar": {
              "outlinewidth": 0,
              "ticks": ""
             }
            },
            "type": "parcoords"
           }
          ],
          "pie": [
           {
            "automargin": true,
            "type": "pie"
           }
          ],
          "scatter": [
           {
            "fillpattern": {
             "fillmode": "overlay",
             "size": 10,
             "solidity": 0.2
            },
            "type": "scatter"
           }
          ],
          "scatter3d": [
           {
            "line": {
             "colorbar": {
              "outlinewidth": 0,
              "ticks": ""
             }
            },
            "marker": {
             "colorbar": {
              "outlinewidth": 0,
              "ticks": ""
             }
            },
            "type": "scatter3d"
           }
          ],
          "scattercarpet": [
           {
            "marker": {
             "colorbar": {
              "outlinewidth": 0,
              "ticks": ""
             }
            },
            "type": "scattercarpet"
           }
          ],
          "scattergeo": [
           {
            "marker": {
             "colorbar": {
              "outlinewidth": 0,
              "ticks": ""
             }
            },
            "type": "scattergeo"
           }
          ],
          "scattergl": [
           {
            "marker": {
             "colorbar": {
              "outlinewidth": 0,
              "ticks": ""
             }
            },
            "type": "scattergl"
           }
          ],
          "scattermap": [
           {
            "marker": {
             "colorbar": {
              "outlinewidth": 0,
              "ticks": ""
             }
            },
            "type": "scattermap"
           }
          ],
          "scattermapbox": [
           {
            "marker": {
             "colorbar": {
              "outlinewidth": 0,
              "ticks": ""
             }
            },
            "type": "scattermapbox"
           }
          ],
          "scatterpolar": [
           {
            "marker": {
             "colorbar": {
              "outlinewidth": 0,
              "ticks": ""
             }
            },
            "type": "scatterpolar"
           }
          ],
          "scatterpolargl": [
           {
            "marker": {
             "colorbar": {
              "outlinewidth": 0,
              "ticks": ""
             }
            },
            "type": "scatterpolargl"
           }
          ],
          "scatterternary": [
           {
            "marker": {
             "colorbar": {
              "outlinewidth": 0,
              "ticks": ""
             }
            },
            "type": "scatterternary"
           }
          ],
          "surface": [
           {
            "colorbar": {
             "outlinewidth": 0,
             "ticks": ""
            },
            "colorscale": [
             [
              0,
              "#0d0887"
             ],
             [
              0.1111111111111111,
              "#46039f"
             ],
             [
              0.2222222222222222,
              "#7201a8"
             ],
             [
              0.3333333333333333,
              "#9c179e"
             ],
             [
              0.4444444444444444,
              "#bd3786"
             ],
             [
              0.5555555555555556,
              "#d8576b"
             ],
             [
              0.6666666666666666,
              "#ed7953"
             ],
             [
              0.7777777777777778,
              "#fb9f3a"
             ],
             [
              0.8888888888888888,
              "#fdca26"
             ],
             [
              1,
              "#f0f921"
             ]
            ],
            "type": "surface"
           }
          ],
          "table": [
           {
            "cells": {
             "fill": {
              "color": "#EBF0F8"
             },
             "line": {
              "color": "white"
             }
            },
            "header": {
             "fill": {
              "color": "#C8D4E3"
             },
             "line": {
              "color": "white"
             }
            },
            "type": "table"
           }
          ]
         },
         "layout": {
          "annotationdefaults": {
           "arrowcolor": "#2a3f5f",
           "arrowhead": 0,
           "arrowwidth": 1
          },
          "autotypenumbers": "strict",
          "coloraxis": {
           "colorbar": {
            "outlinewidth": 0,
            "ticks": ""
           }
          },
          "colorscale": {
           "diverging": [
            [
             0,
             "#8e0152"
            ],
            [
             0.1,
             "#c51b7d"
            ],
            [
             0.2,
             "#de77ae"
            ],
            [
             0.3,
             "#f1b6da"
            ],
            [
             0.4,
             "#fde0ef"
            ],
            [
             0.5,
             "#f7f7f7"
            ],
            [
             0.6,
             "#e6f5d0"
            ],
            [
             0.7,
             "#b8e186"
            ],
            [
             0.8,
             "#7fbc41"
            ],
            [
             0.9,
             "#4d9221"
            ],
            [
             1,
             "#276419"
            ]
           ],
           "sequential": [
            [
             0,
             "#0d0887"
            ],
            [
             0.1111111111111111,
             "#46039f"
            ],
            [
             0.2222222222222222,
             "#7201a8"
            ],
            [
             0.3333333333333333,
             "#9c179e"
            ],
            [
             0.4444444444444444,
             "#bd3786"
            ],
            [
             0.5555555555555556,
             "#d8576b"
            ],
            [
             0.6666666666666666,
             "#ed7953"
            ],
            [
             0.7777777777777778,
             "#fb9f3a"
            ],
            [
             0.8888888888888888,
             "#fdca26"
            ],
            [
             1,
             "#f0f921"
            ]
           ],
           "sequentialminus": [
            [
             0,
             "#0d0887"
            ],
            [
             0.1111111111111111,
             "#46039f"
            ],
            [
             0.2222222222222222,
             "#7201a8"
            ],
            [
             0.3333333333333333,
             "#9c179e"
            ],
            [
             0.4444444444444444,
             "#bd3786"
            ],
            [
             0.5555555555555556,
             "#d8576b"
            ],
            [
             0.6666666666666666,
             "#ed7953"
            ],
            [
             0.7777777777777778,
             "#fb9f3a"
            ],
            [
             0.8888888888888888,
             "#fdca26"
            ],
            [
             1,
             "#f0f921"
            ]
           ]
          },
          "colorway": [
           "#636efa",
           "#EF553B",
           "#00cc96",
           "#ab63fa",
           "#FFA15A",
           "#19d3f3",
           "#FF6692",
           "#B6E880",
           "#FF97FF",
           "#FECB52"
          ],
          "font": {
           "color": "#2a3f5f"
          },
          "geo": {
           "bgcolor": "white",
           "lakecolor": "white",
           "landcolor": "#E5ECF6",
           "showlakes": true,
           "showland": true,
           "subunitcolor": "white"
          },
          "hoverlabel": {
           "align": "left"
          },
          "hovermode": "closest",
          "mapbox": {
           "style": "light"
          },
          "paper_bgcolor": "white",
          "plot_bgcolor": "#E5ECF6",
          "polar": {
           "angularaxis": {
            "gridcolor": "white",
            "linecolor": "white",
            "ticks": ""
           },
           "bgcolor": "#E5ECF6",
           "radialaxis": {
            "gridcolor": "white",
            "linecolor": "white",
            "ticks": ""
           }
          },
          "scene": {
           "xaxis": {
            "backgroundcolor": "#E5ECF6",
            "gridcolor": "white",
            "gridwidth": 2,
            "linecolor": "white",
            "showbackground": true,
            "ticks": "",
            "zerolinecolor": "white"
           },
           "yaxis": {
            "backgroundcolor": "#E5ECF6",
            "gridcolor": "white",
            "gridwidth": 2,
            "linecolor": "white",
            "showbackground": true,
            "ticks": "",
            "zerolinecolor": "white"
           },
           "zaxis": {
            "backgroundcolor": "#E5ECF6",
            "gridcolor": "white",
            "gridwidth": 2,
            "linecolor": "white",
            "showbackground": true,
            "ticks": "",
            "zerolinecolor": "white"
           }
          },
          "shapedefaults": {
           "line": {
            "color": "#2a3f5f"
           }
          },
          "ternary": {
           "aaxis": {
            "gridcolor": "white",
            "linecolor": "white",
            "ticks": ""
           },
           "baxis": {
            "gridcolor": "white",
            "linecolor": "white",
            "ticks": ""
           },
           "bgcolor": "#E5ECF6",
           "caxis": {
            "gridcolor": "white",
            "linecolor": "white",
            "ticks": ""
           }
          },
          "title": {
           "x": 0.05
          },
          "xaxis": {
           "automargin": true,
           "gridcolor": "white",
           "linecolor": "white",
           "ticks": "",
           "title": {
            "standoff": 15
           },
           "zerolinecolor": "white",
           "zerolinewidth": 2
          },
          "yaxis": {
           "automargin": true,
           "gridcolor": "white",
           "linecolor": "white",
           "ticks": "",
           "title": {
            "standoff": 15
           },
           "zerolinecolor": "white",
           "zerolinewidth": 2
          }
         }
        },
        "title": {
         "text": "Untitled Airfoil"
        },
        "xaxis": {
         "title": {
          "text": "x/c"
         }
        },
        "yaxis": {
         "scaleanchor": "x",
         "scaleratio": 1,
         "title": {
          "text": "y/c"
         }
        }
       }
      }
     },
     "metadata": {},
     "output_type": "display_data"
    },
    {
     "data": {
      "application/vnd.plotly.v1+json": {
       "config": {
        "plotlyServerURL": "https://plot.ly"
       },
       "data": [
        {
         "fill": "toself",
         "line": {
          "color": "blue"
         },
         "mode": "lines",
         "name": "Untitled",
         "type": "scatter",
         "x": {
          "bdata": "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",
          "dtype": "f8"
         },
         "y": {
          "bdata": "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",
          "dtype": "f8"
         }
        }
       ],
       "layout": {
        "template": {
         "data": {
          "bar": [
           {
            "error_x": {
             "color": "#2a3f5f"
            },
            "error_y": {
             "color": "#2a3f5f"
            },
            "marker": {
             "line": {
              "color": "#E5ECF6",
              "width": 0.5
             },
             "pattern": {
              "fillmode": "overlay",
              "size": 10,
              "solidity": 0.2
             }
            },
            "type": "bar"
           }
          ],
          "barpolar": [
           {
            "marker": {
             "line": {
              "color": "#E5ECF6",
              "width": 0.5
             },
             "pattern": {
              "fillmode": "overlay",
              "size": 10,
              "solidity": 0.2
             }
            },
            "type": "barpolar"
           }
          ],
          "carpet": [
           {
            "aaxis": {
             "endlinecolor": "#2a3f5f",
             "gridcolor": "white",
             "linecolor": "white",
             "minorgridcolor": "white",
             "startlinecolor": "#2a3f5f"
            },
            "baxis": {
             "endlinecolor": "#2a3f5f",
             "gridcolor": "white",
             "linecolor": "white",
             "minorgridcolor": "white",
             "startlinecolor": "#2a3f5f"
            },
            "type": "carpet"
           }
          ],
          "choropleth": [
           {
            "colorbar": {
             "outlinewidth": 0,
             "ticks": ""
            },
            "type": "choropleth"
           }
          ],
          "contour": [
           {
            "colorbar": {
             "outlinewidth": 0,
             "ticks": ""
            },
            "colorscale": [
             [
              0,
              "#0d0887"
             ],
             [
              0.1111111111111111,
              "#46039f"
             ],
             [
              0.2222222222222222,
              "#7201a8"
             ],
             [
              0.3333333333333333,
              "#9c179e"
             ],
             [
              0.4444444444444444,
              "#bd3786"
             ],
             [
              0.5555555555555556,
              "#d8576b"
             ],
             [
              0.6666666666666666,
              "#ed7953"
             ],
             [
              0.7777777777777778,
              "#fb9f3a"
             ],
             [
              0.8888888888888888,
              "#fdca26"
             ],
             [
              1,
              "#f0f921"
             ]
            ],
            "type": "contour"
           }
          ],
          "contourcarpet": [
           {
            "colorbar": {
             "outlinewidth": 0,
             "ticks": ""
            },
            "type": "contourcarpet"
           }
          ],
          "heatmap": [
           {
            "colorbar": {
             "outlinewidth": 0,
             "ticks": ""
            },
            "colorscale": [
             [
              0,
              "#0d0887"
             ],
             [
              0.1111111111111111,
              "#46039f"
             ],
             [
              0.2222222222222222,
              "#7201a8"
             ],
             [
              0.3333333333333333,
              "#9c179e"
             ],
             [
              0.4444444444444444,
              "#bd3786"
             ],
             [
              0.5555555555555556,
              "#d8576b"
             ],
             [
              0.6666666666666666,
              "#ed7953"
             ],
             [
              0.7777777777777778,
              "#fb9f3a"
             ],
             [
              0.8888888888888888,
              "#fdca26"
             ],
             [
              1,
              "#f0f921"
             ]
            ],
            "type": "heatmap"
           }
          ],
          "histogram": [
           {
            "marker": {
             "pattern": {
              "fillmode": "overlay",
              "size": 10,
              "solidity": 0.2
             }
            },
            "type": "histogram"
           }
          ],
          "histogram2d": [
           {
            "colorbar": {
             "outlinewidth": 0,
             "ticks": ""
            },
            "colorscale": [
             [
              0,
              "#0d0887"
             ],
             [
              0.1111111111111111,
              "#46039f"
             ],
             [
              0.2222222222222222,
              "#7201a8"
             ],
             [
              0.3333333333333333,
              "#9c179e"
             ],
             [
              0.4444444444444444,
              "#bd3786"
             ],
             [
              0.5555555555555556,
              "#d8576b"
             ],
             [
              0.6666666666666666,
              "#ed7953"
             ],
             [
              0.7777777777777778,
              "#fb9f3a"
             ],
             [
              0.8888888888888888,
              "#fdca26"
             ],
             [
              1,
              "#f0f921"
             ]
            ],
            "type": "histogram2d"
           }
          ],
          "histogram2dcontour": [
           {
            "colorbar": {
             "outlinewidth": 0,
             "ticks": ""
            },
            "colorscale": [
             [
              0,
              "#0d0887"
             ],
             [
              0.1111111111111111,
              "#46039f"
             ],
             [
              0.2222222222222222,
              "#7201a8"
             ],
             [
              0.3333333333333333,
              "#9c179e"
             ],
             [
              0.4444444444444444,
              "#bd3786"
             ],
             [
              0.5555555555555556,
              "#d8576b"
             ],
             [
              0.6666666666666666,
              "#ed7953"
             ],
             [
              0.7777777777777778,
              "#fb9f3a"
             ],
             [
              0.8888888888888888,
              "#fdca26"
             ],
             [
              1,
              "#f0f921"
             ]
            ],
            "type": "histogram2dcontour"
           }
          ],
          "mesh3d": [
           {
            "colorbar": {
             "outlinewidth": 0,
             "ticks": ""
            },
            "type": "mesh3d"
           }
          ],
          "parcoords": [
           {
            "line": {
             "colorbar": {
              "outlinewidth": 0,
              "ticks": ""
             }
            },
            "type": "parcoords"
           }
          ],
          "pie": [
           {
            "automargin": true,
            "type": "pie"
           }
          ],
          "scatter": [
           {
            "fillpattern": {
             "fillmode": "overlay",
             "size": 10,
             "solidity": 0.2
            },
            "type": "scatter"
           }
          ],
          "scatter3d": [
           {
            "line": {
             "colorbar": {
              "outlinewidth": 0,
              "ticks": ""
             }
            },
            "marker": {
             "colorbar": {
              "outlinewidth": 0,
              "ticks": ""
             }
            },
            "type": "scatter3d"
           }
          ],
          "scattercarpet": [
           {
            "marker": {
             "colorbar": {
              "outlinewidth": 0,
              "ticks": ""
             }
            },
            "type": "scattercarpet"
           }
          ],
          "scattergeo": [
           {
            "marker": {
             "colorbar": {
              "outlinewidth": 0,
              "ticks": ""
             }
            },
            "type": "scattergeo"
           }
          ],
          "scattergl": [
           {
            "marker": {
             "colorbar": {
              "outlinewidth": 0,
              "ticks": ""
             }
            },
            "type": "scattergl"
           }
          ],
          "scattermap": [
           {
            "marker": {
             "colorbar": {
              "outlinewidth": 0,
              "ticks": ""
             }
            },
            "type": "scattermap"
           }
          ],
          "scattermapbox": [
           {
            "marker": {
             "colorbar": {
              "outlinewidth": 0,
              "ticks": ""
             }
            },
            "type": "scattermapbox"
           }
          ],
          "scatterpolar": [
           {
            "marker": {
             "colorbar": {
              "outlinewidth": 0,
              "ticks": ""
             }
            },
            "type": "scatterpolar"
           }
          ],
          "scatterpolargl": [
           {
            "marker": {
             "colorbar": {
              "outlinewidth": 0,
              "ticks": ""
             }
            },
            "type": "scatterpolargl"
           }
          ],
          "scatterternary": [
           {
            "marker": {
             "colorbar": {
              "outlinewidth": 0,
              "ticks": ""
             }
            },
            "type": "scatterternary"
           }
          ],
          "surface": [
           {
            "colorbar": {
             "outlinewidth": 0,
             "ticks": ""
            },
            "colorscale": [
             [
              0,
              "#0d0887"
             ],
             [
              0.1111111111111111,
              "#46039f"
             ],
             [
              0.2222222222222222,
              "#7201a8"
             ],
             [
              0.3333333333333333,
              "#9c179e"
             ],
             [
              0.4444444444444444,
              "#bd3786"
             ],
             [
              0.5555555555555556,
              "#d8576b"
             ],
             [
              0.6666666666666666,
              "#ed7953"
             ],
             [
              0.7777777777777778,
              "#fb9f3a"
             ],
             [
              0.8888888888888888,
              "#fdca26"
             ],
             [
              1,
              "#f0f921"
             ]
            ],
            "type": "surface"
           }
          ],
          "table": [
           {
            "cells": {
             "fill": {
              "color": "#EBF0F8"
             },
             "line": {
              "color": "white"
             }
            },
            "header": {
             "fill": {
              "color": "#C8D4E3"
             },
             "line": {
              "color": "white"
             }
            },
            "type": "table"
           }
          ]
         },
         "layout": {
          "annotationdefaults": {
           "arrowcolor": "#2a3f5f",
           "arrowhead": 0,
           "arrowwidth": 1
          },
          "autotypenumbers": "strict",
          "coloraxis": {
           "colorbar": {
            "outlinewidth": 0,
            "ticks": ""
           }
          },
          "colorscale": {
           "diverging": [
            [
             0,
             "#8e0152"
            ],
            [
             0.1,
             "#c51b7d"
            ],
            [
             0.2,
             "#de77ae"
            ],
            [
             0.3,
             "#f1b6da"
            ],
            [
             0.4,
             "#fde0ef"
            ],
            [
             0.5,
             "#f7f7f7"
            ],
            [
             0.6,
             "#e6f5d0"
            ],
            [
             0.7,
             "#b8e186"
            ],
            [
             0.8,
             "#7fbc41"
            ],
            [
             0.9,
             "#4d9221"
            ],
            [
             1,
             "#276419"
            ]
           ],
           "sequential": [
            [
             0,
             "#0d0887"
            ],
            [
             0.1111111111111111,
             "#46039f"
            ],
            [
             0.2222222222222222,
             "#7201a8"
            ],
            [
             0.3333333333333333,
             "#9c179e"
            ],
            [
             0.4444444444444444,
             "#bd3786"
            ],
            [
             0.5555555555555556,
             "#d8576b"
            ],
            [
             0.6666666666666666,
             "#ed7953"
            ],
            [
             0.7777777777777778,
             "#fb9f3a"
            ],
            [
             0.8888888888888888,
             "#fdca26"
            ],
            [
             1,
             "#f0f921"
            ]
           ],
           "sequentialminus": [
            [
             0,
             "#0d0887"
            ],
            [
             0.1111111111111111,
             "#46039f"
            ],
            [
             0.2222222222222222,
             "#7201a8"
            ],
            [
             0.3333333333333333,
             "#9c179e"
            ],
            [
             0.4444444444444444,
             "#bd3786"
            ],
            [
             0.5555555555555556,
             "#d8576b"
            ],
            [
             0.6666666666666666,
             "#ed7953"
            ],
            [
             0.7777777777777778,
             "#fb9f3a"
            ],
            [
             0.8888888888888888,
             "#fdca26"
            ],
            [
             1,
             "#f0f921"
            ]
           ]
          },
          "colorway": [
           "#636efa",
           "#EF553B",
           "#00cc96",
           "#ab63fa",
           "#FFA15A",
           "#19d3f3",
           "#FF6692",
           "#B6E880",
           "#FF97FF",
           "#FECB52"
          ],
          "font": {
           "color": "#2a3f5f"
          },
          "geo": {
           "bgcolor": "white",
           "lakecolor": "white",
           "landcolor": "#E5ECF6",
           "showlakes": true,
           "showland": true,
           "subunitcolor": "white"
          },
          "hoverlabel": {
           "align": "left"
          },
          "hovermode": "closest",
          "mapbox": {
           "style": "light"
          },
          "paper_bgcolor": "white",
          "plot_bgcolor": "#E5ECF6",
          "polar": {
           "angularaxis": {
            "gridcolor": "white",
            "linecolor": "white",
            "ticks": ""
           },
           "bgcolor": "#E5ECF6",
           "radialaxis": {
            "gridcolor": "white",
            "linecolor": "white",
            "ticks": ""
           }
          },
          "scene": {
           "xaxis": {
            "backgroundcolor": "#E5ECF6",
            "gridcolor": "white",
            "gridwidth": 2,
            "linecolor": "white",
            "showbackground": true,
            "ticks": "",
            "zerolinecolor": "white"
           },
           "yaxis": {
            "backgroundcolor": "#E5ECF6",
            "gridcolor": "white",
            "gridwidth": 2,
            "linecolor": "white",
            "showbackground": true,
            "ticks": "",
            "zerolinecolor": "white"
           },
           "zaxis": {
            "backgroundcolor": "#E5ECF6",
            "gridcolor": "white",
            "gridwidth": 2,
            "linecolor": "white",
            "showbackground": true,
            "ticks": "",
            "zerolinecolor": "white"
           }
          },
          "shapedefaults": {
           "line": {
            "color": "#2a3f5f"
           }
          },
          "ternary": {
           "aaxis": {
            "gridcolor": "white",
            "linecolor": "white",
            "ticks": ""
           },
           "baxis": {
            "gridcolor": "white",
            "linecolor": "white",
            "ticks": ""
           },
           "bgcolor": "#E5ECF6",
           "caxis": {
            "gridcolor": "white",
            "linecolor": "white",
            "ticks": ""
           }
          },
          "title": {
           "x": 0.05
          },
          "xaxis": {
           "automargin": true,
           "gridcolor": "white",
           "linecolor": "white",
           "ticks": "",
           "title": {
            "standoff": 15
           },
           "zerolinecolor": "white",
           "zerolinewidth": 2
          },
          "yaxis": {
           "automargin": true,
           "gridcolor": "white",
           "linecolor": "white",
           "ticks": "",
           "title": {
            "standoff": 15
           },
           "zerolinecolor": "white",
           "zerolinewidth": 2
          }
         }
        },
        "title": {
         "text": "Untitled Airfoil"
        },
        "xaxis": {
         "title": {
          "text": "x/c"
         }
        },
        "yaxis": {
         "scaleanchor": "x",
         "scaleratio": 1,
         "title": {
          "text": "y/c"
         }
        }
       }
      }
     },
     "metadata": {},
     "output_type": "display_data"
    }
   ],
   "source": [
    "from src.vae import Decoder, Encoder\n",
    "import tensorflow as tf\n",
    "\n",
    "BATCH_SIZE = 4\n",
    "NPV = 12\n",
    "LATENT_DIM = 128\n",
    "\n",
    "decoder = Decoder(NPV, LATENT_DIM)\n",
    "\n",
    "dummy_latent_vector = tf.random.normal(shape=(BATCH_SIZE, LATENT_DIM))\n",
    "\n",
    "coords, weights, params = decoder(dummy_latent_vector)\n",
    "\n",
    "n = 0 \n",
    "\n",
    "airfoil = Airfoil(coordinates=coords[n].numpy())\n",
    "airfoil.draw()\n",
    "\n",
    "kulfan = KulfanAirfoil(lower_weights=weights[n][0], upper_weights=weights[n][1], leading_edge_weight=params[n][0], TE_thickness=params[n][1])\n",
    "kulfan.draw()"
   ]
  },
  {
   "cell_type": "code",
   "execution_count": 28,
   "metadata": {},
   "outputs": [
    {
     "data": {
      "image/png": "[encoded data removed]",
      "text/plain": [
       "<Figure size 500x500 with 1 Axes>"
      ]
     },
     "metadata": {},
     "output_type": "display_data"
    }
   ],
   "source": [
    "from src.utils import generate_and_plot_airfoils\n",
    "from src.vae import Decoder, Encoder\n",
    "from src.gan.generator import CSTGenerator \n",
    "\n",
    "BATCH_SIZE = 9\n",
    "NPV = 12\n",
    "LATENT_DIM = 128\n",
    "\n",
    "generator = Decoder(NPV, LATENT_DIM)\n",
    "# generator = CSTGenerator(NPV, LATENT_DIM)\n",
    "\n",
    "generate_and_plot_airfoils(generator, num_airfoils=BATCH_SIZE, figsize=(5,5))\n"
   ]
  },
  {
   "cell_type": "code",
   "execution_count": 6,
   "metadata": {},
   "outputs": [
    {
     "data": {
      "text/plain": [
       "{'lower_weights': array([-0.17443337, -0.14999311, -0.19304352, -0.09233462, -0.25399501,\n",
       "        -0.02409511, -0.26620344, -0.05251675, -0.19295467, -0.11732873,\n",
       "        -0.14729293, -0.13982363]),\n",
       " 'upper_weights': array([0.17443337, 0.14999311, 0.19304352, 0.09233462, 0.25399501,\n",
       "        0.02409511, 0.26620344, 0.05251675, 0.19295467, 0.11732873,\n",
       "        0.14729293, 0.13982363]),\n",
       " 'leading_edge_weight': np.float64(-1.9290125052862095e-15),\n",
       " 'TE_thickness': np.float64(0.002529791573506454)}"
      ]
     },
     "execution_count": 6,
     "metadata": {},
     "output_type": "execute_result"
    }
   ],
   "source": [
    "airfoil = Airfoil(name=\"NACA0012\")\n",
    "# airfoil.draw(show=False, fill=False)\n",
    "kulfan = airfoil.to_kulfan_airfoil(12)\n",
    "kulfan.kulfan_parameters"
   ]
  },
  {
   "cell_type": "code",
   "execution_count": 9,
   "metadata": {},
   "outputs": [
    {
     "data": {
      "text/plain": [
       "array([ 0.50034662, -1.39570373,  0.89535711])"
      ]
     },
     "execution_count": 9,
     "metadata": {},
     "output_type": "execute_result"
    }
   ],
   "source": [
    "x = np.array([50,2,60])\n",
    "\n",
    "def standardize(x):\n",
    "  return (x - np.mean(x, axis=0)) / np.std(x, axis=0)\n",
    "\n",
    "standardize(x)"
   ]
  },
  {
   "cell_type": "code",
   "execution_count": null,
   "metadata": {},
   "outputs": [],
   "source": []
  },
  {
   "cell_type": "code",
   "execution_count": 5,
   "metadata": {},
   "outputs": [],
   "source": [
    "airfoils = [Airfoil(coordinates=np.random.rand(10, 2)) for _ in range(16)]  # Example airfoils\n",
    "plot_samples(None, airfoils, fname='airfoil_plot')"
   ]
  },
  {
   "cell_type": "code",
   "execution_count": 2,
   "metadata": {},
   "outputs": [
    {
     "data": {
      "application/vnd.plotly.v1+json": {
       "config": {
        "plotlyServerURL": "https://plot.ly"
       },
       "data": [
        {
         "line": {
          "color": "blue"
         },
         "mode": "lines+markers",
         "name": "NACA0012",
         "type": "scatter",
         "x": {
          "bdata": "AAAAAAAA8D+L2yBWff/vPxeN2WD1/e8/POkrOWj77z/T4cMI1vfvP07d9Ak/8+8/Hv61h6Pt7z9IWp3dA+fvP4gj2ndg3+8/VcAt07nW7z9E1uN8EM3vP0BGyRJlwu8/NRsiQ7i27z/Ka57MCqrvP94vTn5dnO8/nAqUN7GN7z/zCRfoBn7vP1Fcs49fbe8/vP1pPrxb7z8oXU8UHknvP077eEGGNe8/EwTqBfYg7z/D436xbgvvP4LZ16Px9O4/MIhCTIDd7j9Eh6IpHMXuPxb1WMrGq+4/LwwrzIGR7j8uvSfcTnbuP/1OjLYvWu4/GgeoJiY97j+y274GNB/uP3gx6z9bAO4/LKf+yZ3g7T+98GGr/b/tPyrE8/h8nu0/KNrm1R187T/EBJ9z4ljtP0JejRHNNO0/cJIL/d8P7T/WRDaRHersPxyWxjaIw+w/IsvqYyKc7D9OGB6c7nPsP5GT/2/vSuw/5k8ofSch7D/GpABumfbrP2yklPlHy+s/tsNn4zWf6z9Qtkf7ZXLrPzyCHh3bROs/fM3DMJgW6z/raM0poOfqP10bXwf2t+o/5a/505yH6j+oSkmll1bqPx4H85vpJOo/PuNh45Xy6T+e+pKxn7/pP/AU4UYKjOk/QIvP7dhX6T8wh9T6DiPpP8qfIsyv7eg/Rtdxyb636D9H/cdjP4HoPzJ5QBU1Sug/FIDTYKMS6D/YuRzSjdrnP1hZIf33oec/DKsVfuVo5z8ZHiL5WS/nP2DLJxpZ9eY/jn6ElOa65j/MRNYiBoDmPwWFvoa7ROY/rKWkiAoJ5j/SQ3j39szlP5b/cqiEkOU/2uHZdrdT5T84X75DkxblP1L8vvUb2eQ/YpfHeFWb5D9CW9G9Q13kP+pforrqHuQ/hvyMaU7g4z9Ezy7JcqHjPwZ/L9xbYuM/DDv/qA0j4z/j/JQ5jOPiP7aQLJvbo+I/NWgE3v9j4j9ZPBsV/SPiPzWC7VXX4+E/F7cyuJKj4T88iJpVM2PhP1faiUm9IuE/NrXXsDTi4D/KF4qpnaHgP9G4klL8YOA/hLiLy1Qg4D/7juhoVr/fP1+O2loHPt8/bdDrrMS83j+UlVCeljveP1VL7GyFut0/jO/KVJk53T/TkZqP2rjcP5f7JFRRONw/T4fJ1QW42z+YL/dDADjbP5bepslIuNo/OwbWjOc42j/qiQGu5LnZP/UBoUdIO9k/eGGibRq92D/4BuYsYz/YPzBAu4oqwtc/fkldhHhF1z8+0XAOVcnWP10HghTITdY/kEGDeNnS1T9QPEwSkVjVP9UAGq/23tQ/XngPERJm1D+qtLbu6u3TP/f1gvKIdtM/anZTuvP/0j/mAvfWMorSP0JpsMtNFdI/1MO7DUyh0T/oqdQDNS7RP1BNvQUQvNA/UIzGW+RK0D+w/7F8crXPPzgb/qor184/5grgcAL7zT/uojjaBCHNP9iAdc9AScw/QuOtFMRzyz8G08FInKDKP0Kse+TWz8k/jBW0OYEByT8Mc3hyqDXIP4zjM5BZbMc/atXaaqGlxj9uQBmwjOHFP5SSg+InIMU/VlzKWH9hxD8UyvA8n6XDPxL3hYuT7MI/wCbhEmg2wj8o8WByKIPBP1JurRng0sA/7Gz9R5olwD/UgL0WxPa+P3xjA4CEqL0/pD0PH4tgvD/wpqng7B67PyBPy0m+47k/VNlNdhOvuD+EbKMXAIG3P/QNlXOXWbY/5NkHY+w4tT/ILslQER+0P6zeYTgYDLM/GHrwpBIAsj+sxgqwEfuwP5DoTAFM+q8/6EQSlL8Mrj9gjn+VnS2sPzAQO5cEXao/MC2EPRKbqD8QPU894+emP7CucFqTQ6U/0IvXZT2uoz/4fNc7+yeiP+BngsLlsKA/sIcj0CmSnj+wfb9CP+GbPzCW4NA3T5k/AFsUdj3clj+gSMAyeIiUP+B1lAkOVJI/sMEe/SI/kD/gWP0aspOMP6AIdGyg6Ig/wA1l2Ex9hT/AMnk371GCP0DgXJt2zX4/QN4UjsF3eT+A1R9pFqN0PwA87hLET3A/ALilYiL8aD8A4wFKeFxiPwBlRRbsgVk/AFo8eO5TUD8ADltQG19CPwBIlzP5VDA/AKCO5DtVED8AAAAAAAAAAACgjuQ7VRA/AEiXM/lUMD8ADltQG19CPwBaPHjuU1A/AGVFFuyBWT8A4wFKeFxiPwC4pWIi/Gg/ADzuEsRPcD+A1R9pFqN0P0DeFI7Bd3k/QOBcm3bNfj/AMnk371GCP8ANZdhMfYU/oAh0bKDoiD/gWP0aspOMP7DBHv0iP5A/4HWUCQ5Ukj+gSMAyeIiUPwBbFHY93JY/MJbg0DdPmT+wfb9CP+GbP7CHI9Apkp4/4GeCwuWwoD/4fNc7+yeiP9CL12U9rqM/sK5wWpNDpT8QPU894+emPzAthD0Sm6g/MBA7lwRdqj9gjn+VnS2sP+hEEpS/DK4/kOhMAUz6rz+sxgqwEfuwPxh68KQSALI/rN5hOBgMsz/ILslQER+0P+TZB2PsOLU/9A2Vc5dZtj+EbKMXAIG3P1TZTXYTr7g/IE/LSb7juT/wpqng7B67P6Q9Dx+LYLw/fGMDgISovT/UgL0WxPa+P+xs/UeaJcA/Um6tGeDSwD8o8WByKIPBP8Am4RJoNsI/EveFi5Pswj8UyvA8n6XDP1Zcylh/YcQ/lJKD4icgxT9uQBmwjOHFP2rV2mqhpcY/jOMzkFlsxz8Mc3hyqDXIP4wVtDmBAck/Qqx75NbPyT8G08FInKDKP0LjrRTEc8s/2IB1z0BJzD/uojjaBCHNP+YK4HAC+80/OBv+qivXzj+w/7F8crXPP1CMxlvkStA/UE29BRC80D/oqdQDNS7RP9TDuw1ModE/Qmmwy00V0j/mAvfWMorSP2p2U7rz/9I/9/WC8oh20z+qtLbu6u3TP154DxESZtQ/1QAar/be1D9QPEwSkVjVP5BBg3jZ0tU/XQeCFMhN1j8+0XAOVcnWP35JXYR4Rdc/MEC7iirC1z/4BuYsYz/YP3hhom0avdg/9QGhR0g72T/qiQGu5LnZPzsG1oznONo/lt6myUi42j+YL/dDADjbP0+HydUFuNs/l/skVFE43D/TkZqP2rjcP4zvylSZOd0/VUvsbIW63T+UlVCeljveP23Q66zEvN4/X47aWgc+3z/7juhoVr/fP4S4i8tUIOA/0biSUvxg4D/KF4qpnaHgPza117A04uA/V9qJSb0i4T88iJpVM2PhPxe3MriSo+E/NYLtVdfj4T9ZPBsV/SPiPzVoBN7/Y+I/tpAsm9uj4j/j/JQ5jOPiPww7/6gNI+M/Bn8v3Fti4z9Ezy7JcqHjP4b8jGlO4OM/6l+iuuoe5D9CW9G9Q13kP2KXx3hVm+Q/Uvy+9RvZ5D84X75DkxblP9rh2Xa3U+U/lv9yqISQ5T/SQ3j39szlP6ylpIgKCeY/BYW+hrtE5j/MRNYiBoDmP45+hJTmuuY/YMsnGln15j8ZHiL5WS/nPwyrFX7laOc/WFkh/feh5z/YuRzSjdrnPxSA02CjEug/MnlAFTVK6D9H/cdjP4HoP0bXccm+t+g/yp8izK/t6D8wh9T6DiPpP0CLz+3YV+k/8BThRgqM6T+e+pKxn7/pPz7jYeOV8uk/Hgfzm+kk6j+oSkmll1bqP+Wv+dOch+o/XRtfB/a36j/raM0poOfqP3zNwzCYFus/PIIeHdtE6z9Qtkf7ZXLrP7bDZ+M1n+s/bKSU+UfL6z/GpABumfbrP+ZPKH0nIew/kZP/b+9K7D9OGB6c7nPsPyLL6mMinOw/HJbGNojD7D/WRDaRHersP3CSC/3fD+0/Ql6NEc007T/EBJ9z4ljtPyja5tUdfO0/KsTz+Hye7T+98GGr/b/tPyyn/smd4O0/eDHrP1sA7j+y274GNB/uPxoHqCYmPe4//U6Mti9a7j8uvSfcTnbuPy8MK8yBke4/FvVYysar7j9Eh6IpHMXuPzCIQkyA3e4/gtnXo/H07j/D436xbgvvPxME6gX2IO8/Tvt4QYY17z8oXU8UHknvP7z9aT68W+8/UVyzj19t7z/zCRfoBn7vP5wKlDexje8/3i9Ofl2c7z/Ka57MCqrvPzUbIkO4tu8/QEbJEmXC7z9E1uN8EM3vP1XALdO51u8/iCPad2Df7z9IWp3dA+fvPx7+tYej7e8/Tt30CT/z7z/T4cMI1vfvPzzpKzlo++8/F43ZYPX97z+L2yBWff/vPwAAAAAAAPA/",
          "dtype": "f8"
         },
         "y": {
          "bdata": "5tq/stKkVD9mugAKfclUP4BGv2B1N1U/c9vyrKfuVT9ZzpWS8u5WPwCDp3InOFg/TWYZgArKWT9z35DaUqRbP5lb4q6qxl0/rcSRrlcYYD9TjBbS+HBhP7lUL+n67GI/uR25/RmMZD9mk5MZDE5mP83lQ2aBMmg/gDTETiQ5aj/TnVyjmWFsP7nzYL+Aq24/SRxW2DmLcD8ztFiwA9FxP5a3e9/lJnM/1oBq9qWMdD/J5h81BwJ2PznRwKHKhnc/DbnSH68aeT8NvraHcb16P5nmUb7Mbnw//PrKzHkufj8ZlUb4L/x/P7UPxWzS64A/Dl83OkbggT++y4anTNuCP4mlR0S+3IM/0JHE93LkhD8YkOkLQvKFP+Vo4TcCBoc/W+1bqokfiD9G8nMTrj6JP1hxLK5EY4o/2dF8SSKNiz9D8eRQG7yMP3wugtQD8I0/kV+fkK8ojz/3Kl36+DKQP2kl/RTP05A/5aiJjMN2kT+a28m3vxuSP2d7TNKswpI/ymV1/nNrkz/U0j1H/hWUP19Up6E0wpQ/sBTi7f9vlT+6Nyf4SB+WP3mtSHn4z5Y/VCr4FveBlz+YYMdjLTWYP/L8496D6Zg/4UWS8+KemT/ToWn4MlWaP3ufVi5cDJs/t3Vmv0bEmz+DRGC92nycP1GuMCAANp0/s6wsxJ7vnT9txzBonqmePygUoqvmY58/vE8rhi8PoD94iDVyd2ygP1HFBbS+yaA/T/Sa0fgmoT/P0b07GYShP7LZ5EwT4aE/U20eSNo9oj/haARYYZqiP29ivI2b9qI/CMoH4HtSoz9BG2cq9a2jP1xFUyz6CKQ/4mCQiH1jpD+HtpzEcb2kP2wFP0jJFqU/otw2XXZvpT9AvhEva8elP5qhJ8uZHqY/lEXBIPR0pj91nGoBbMqmP5xvcyHzHqc/lyygGHtypz/2mgxj9cSnP70IQmJTFqg/2USCXoZmqD/3hkiIf7WoP/0qAfovA6k/O+r4uYhPqT8w/4O8epqpP+liXeb246k/DBI+D+4rqj/+CKwEUXKqP/JjAI0Qt6o/mM+jah36qj/rNIBfaDurPz5KpjDieqs/0XIlqnu4qz/8FRSjJfSrP9tYxgHRLaw/becwwG5lrD96PnXw75qsP+2slMFFzqw/EAxHhGH/rD9G9/GvNC6tP9QZveewWq0/tfe//8eErT/TaUUCbKytP2DbIDWP0a0/Fy8RHyT0rT9NEC2NHRSuP7hTVJhuMa4/cvChqgpMrj9QAtqE5WOuP/kyz0PzeK4/WNi6ZSiLrj8bDIPPeZquPyL66dHcpq4/mqGhLkewrj/0Rz8dr7auPwjkCVALuq4/UNSe+FK6rj+/Q2jMfbeuP/e14AiEsa4/Xk6fd16orj8ggyhyBpyuP9kQf+V1jK4/kCpxVad5rj8+DZ7flWOuP7lNMD49Sq4/b2tJypktrj97aRt+qA2uP+5qrfZm6q0/Po1IddPDrT9qfYrg7JmtPxKJG8WybK0/HDQGViU8rT9jpa5sRQitP8+IaIgU0aw/JFSqzZSWrD+nKt0EyVisPz3uyJi0F6w/TV6clFvTqz+6eJGhwourP/mkLgTvQKs/qIUlmebyqj+CodDRr6GqPyNoUbBRTao/x2pQw9P1qT9U82EhPpupPyh1EWSZPak/9aKWou7cqD9TQjdsR3moP/8hWcKtEqg/SeBHEiyppz8kdrIuzTynPym/5EiczaY/p3bB6aRbpj9dX4Hq8ualP6WEPG2Sb6U/NblC1Y/1pD9+qEi/93ikP5P9bvnW+aM/F0opezp4oz/kewpdL/SiPzbPfNDCbaI/KUVrFwLloT9Su+J7+lmhP4DRsEe5zKA/0NQGvEs9oD9C200SflefPxGaQ4xAMJ4/GCRW0fgEnT+LKBV6wNWbP8BiYbywopo/W0znW+JrmT/aw/eabTGYP6JEyitq85Y/vgY0Iu+xlT9nB9/lEm2UP3+hCyXrJJM/xPXmx4zZkT+z9H/kC4uQP/zKyGb3co4/ZYjdCd3Jiz+GmZpu6xqJP8vvk1pDZoY/yTW1iwOsgz/Dfv+oSOyAPz2Y4GlaTnw/TQ05A5O5dj8/VBFNZxpxP/MoGOH94WY/fbDdDvT1Vj8AAAAAAAAAAH2w3Q709Va/8ygY4f3hZr8/VBFNZxpxv00NOQOTuXa/PZjgaVpOfL/Dfv+oSOyAv8k1tYsDrIO/y++TWkNmhr+GmZpu6xqJv2WI3QndyYu//MrIZvdyjr+z9H/kC4uQv8T15seM2ZG/f6ELJeskk79nB9/lEm2Uv74GNCLvsZW/okTKK2rzlr/aw/eabTGYv1tM51via5m/wGJhvLCimr+LKBV6wNWbvxgkVtH4BJ2/EZpDjEAwnr9C200Sflefv9DUBrxLPaC/gNGwR7nMoL9Su+J7+lmhvylFaxcC5aG/Ns980MJtor/kewpdL/SivxdKKXs6eKO/k/1u+db5o79+qEi/93ikvzW5QtWP9aS/pYQ8bZJvpb9dX4Hq8ualv6d2wemkW6a/Kb/kSJzNpr8kdrIuzTynv0ngRxIsqae//yFZwq0SqL9TQjdsR3mov/WilqLu3Ki/KHURZJk9qb9U82EhPpupv8dqUMPT9am/I2hRsFFNqr+CodDRr6Gqv6iFJZnm8qq/+aQuBO9Aq7+6eJGhwourv01enJRb06u/Pe7ImLQXrL+nKt0EyVisvyRUqs2Ulqy/z4hoiBTRrL9jpa5sRQitvxw0BlYlPK2/EokbxbJsrb9qfYrg7Jmtvz6NSHXTw62/7mqt9mbqrb97aRt+qA2uv29rScqZLa6/uU0wPj1Krr8+DZ7flWOuv5AqcVWnea6/2RB/5XWMrr8ggyhyBpyuv15On3deqK6/97XgCISxrr+/Q2jMfbeuv1DUnvhSuq6/COQJUAu6rr/0Rz8dr7auv5qhoS5HsK6/Ivrp0dymrr8bDIPPeZquv1jYumUoi66/+TLPQ/N4rr9QAtqE5WOuv3LwoaoKTK6/uFNUmG4xrr9NEC2NHRSuvxcvER8k9K2/YNsgNY/Rrb/TaUUCbKytv7X3v//HhK2/1Bm957Barb9G9/GvNC6tvxAMR4Rh/6y/7ayUwUXOrL96PnXw75qsv23nMMBuZay/21jGAdEtrL/8FRSjJfSrv9FyJap7uKu/PkqmMOJ6q7/rNIBfaDurv5jPo2od+qq/8mMAjRC3qr/+CKwEUXKqvwwSPg/uK6q/6WJd5vbjqb8w/4O8epqpvzvq+LmIT6m//SoB+i8Dqb/3hkiIf7Wov9lEgl6GZqi/vQhCYlMWqL/2mgxj9cSnv5csoBh7cqe/nG9zIfMep791nGoBbMqmv5RFwSD0dKa/mqEny5kepr9AvhEva8elv6LcNl12b6W/bAU/SMkWpb+HtpzEcb2kv+JgkIh9Y6S/XEVTLPoIpL9BG2cq9a2jvwjKB+B7UqO/b2K8jZv2or/haARYYZqiv1NtHkjaPaK/stnkTBPhob/P0b07GYShv0/0mtH4JqG/UcUFtL7JoL94iDVyd2ygv7xPK4YvD6C/KBSiq+Zjn79txzBonqmev7OsLMSe752/Ua4wIAA2nb+DRGC92nycv7d1Zr9GxJu/e59WLlwMm7/ToWn4MlWav+FFkvPinpm/8vzj3oPpmL+YYMdjLTWYv1Qq+Bb3gZe/ea1IefjPlr+6Nyf4SB+Wv7AU4u3/b5W/X1SnoTTClL/U0j1H/hWUv8pldf5za5O/Z3tM0qzCkr+a28m3vxuSv+WoiYzDdpG/aSX9FM/TkL/3Kl36+DKQv5Ffn5CvKI+/fC6C1APwjb9D8eRQG7yMv9nRfEkijYu/WHEsrkRjir9G8nMTrj6Jv1vtW6qJH4i/5WjhNwIGh78YkOkLQvKFv9CRxPdy5IS/iaVHRL7cg7++y4anTNuCvw5fNzpG4IG/tQ/FbNLrgL8ZlUb4L/x/v/z6ysx5Ln6/meZRvsxufL8NvraHcb16vw250h+vGnm/OdHAocqGd7/J5h81BwJ2v9aAavaljHS/lrd73+Umc78ztFiwA9Fxv0kcVtg5i3C/ufNgv4Crbr/TnVyjmWFsv4A0xE4kOWq/zeVDZoEyaL9mk5MZDE5mv7kduf0ZjGS/uVQv6frsYr9TjBbS+HBhv63Eka5XGGC/mVvirqrGXb9z35DaUqRbv01mGYAKylm/AIOncic4WL9ZzpWS8u5Wv3Pb8qyn7lW/gEa/YHU3Vb9mugAKfclUv+bav7LSpFS/",
          "dtype": "f8"
         }
        },
        {
         "line": {
          "color": "green"
         },
         "mode": "lines+markers",
         "name": "NACA0008",
         "type": "scatter",
         "x": {
          "bdata": "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",
          "dtype": "f8"
         },
         "y": {
          "bdata": "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",
          "dtype": "f8"
         }
        }
       ],
       "layout": {
        "template": {
         "data": {
          "bar": [
           {
            "error_x": {
             "color": "#2a3f5f"
            },
            "error_y": {
             "color": "#2a3f5f"
            },
            "marker": {
             "line": {
              "color": "#E5ECF6",
              "width": 0.5
             },
             "pattern": {
              "fillmode": "overlay",
              "size": 10,
              "solidity": 0.2
             }
            },
            "type": "bar"
           }
          ],
          "barpolar": [
           {
            "marker": {
             "line": {
              "color": "#E5ECF6",
              "width": 0.5
             },
             "pattern": {
              "fillmode": "overlay",
              "size": 10,
              "solidity": 0.2
             }
            },
            "type": "barpolar"
           }
          ],
          "carpet": [
           {
            "aaxis": {
             "endlinecolor": "#2a3f5f",
             "gridcolor": "white",
             "linecolor": "white",
             "minorgridcolor": "white",
             "startlinecolor": "#2a3f5f"
            },
            "baxis": {
             "endlinecolor": "#2a3f5f",
             "gridcolor": "white",
             "linecolor": "white",
             "minorgridcolor": "white",
             "startlinecolor": "#2a3f5f"
            },
            "type": "carpet"
           }
          ],
          "choropleth": [
           {
            "colorbar": {
             "outlinewidth": 0,
             "ticks": ""
            },
            "type": "choropleth"
           }
          ],
          "contour": [
           {
            "colorbar": {
             "outlinewidth": 0,
             "ticks": ""
            },
            "colorscale": [
             [
              0,
              "#0d0887"
             ],
             [
              0.1111111111111111,
              "#46039f"
             ],
             [
              0.2222222222222222,
              "#7201a8"
             ],
             [
              0.3333333333333333,
              "#9c179e"
             ],
             [
              0.4444444444444444,
              "#bd3786"
             ],
             [
              0.5555555555555556,
              "#d8576b"
             ],
             [
              0.6666666666666666,
              "#ed7953"
             ],
             [
              0.7777777777777778,
              "#fb9f3a"
             ],
             [
              0.8888888888888888,
              "#fdca26"
             ],
             [
              1,
              "#f0f921"
             ]
            ],
            "type": "contour"
           }
          ],
          "contourcarpet": [
           {
            "colorbar": {
             "outlinewidth": 0,
             "ticks": ""
            },
            "type": "contourcarpet"
           }
          ],
          "heatmap": [
           {
            "colorbar": {
             "outlinewidth": 0,
             "ticks": ""
            },
            "colorscale": [
             [
              0,
              "#0d0887"
             ],
             [
              0.1111111111111111,
              "#46039f"
             ],
             [
              0.2222222222222222,
              "#7201a8"
             ],
             [
              0.3333333333333333,
              "#9c179e"
             ],
             [
              0.4444444444444444,
              "#bd3786"
             ],
             [
              0.5555555555555556,
              "#d8576b"
             ],
             [
              0.6666666666666666,
              "#ed7953"
             ],
             [
              0.7777777777777778,
              "#fb9f3a"
             ],
             [
              0.8888888888888888,
              "#fdca26"
             ],
             [
              1,
              "#f0f921"
             ]
            ],
            "type": "heatmap"
           }
          ],
          "histogram": [
           {
            "marker": {
             "pattern": {
              "fillmode": "overlay",
              "size": 10,
              "solidity": 0.2
             }
            },
            "type": "histogram"
           }
          ],
          "histogram2d": [
           {
            "colorbar": {
             "outlinewidth": 0,
             "ticks": ""
            },
            "colorscale": [
             [
              0,
              "#0d0887"
             ],
             [
              0.1111111111111111,
              "#46039f"
             ],
             [
              0.2222222222222222,
              "#7201a8"
             ],
             [
              0.3333333333333333,
              "#9c179e"
             ],
             [
              0.4444444444444444,
              "#bd3786"
             ],
             [
              0.5555555555555556,
              "#d8576b"
             ],
             [
              0.6666666666666666,
              "#ed7953"
             ],
             [
              0.7777777777777778,
              "#fb9f3a"
             ],
             [
              0.8888888888888888,
              "#fdca26"
             ],
             [
              1,
              "#f0f921"
             ]
            ],
            "type": "histogram2d"
           }
          ],
          "histogram2dcontour": [
           {
            "colorbar": {
             "outlinewidth": 0,
             "ticks": ""
            },
            "colorscale": [
             [
              0,
              "#0d0887"
             ],
             [
              0.1111111111111111,
              "#46039f"
             ],
             [
              0.2222222222222222,
              "#7201a8"
             ],
             [
              0.3333333333333333,
              "#9c179e"
             ],
             [
              0.4444444444444444,
              "#bd3786"
             ],
             [
              0.5555555555555556,
              "#d8576b"
             ],
             [
              0.6666666666666666,
              "#ed7953"
             ],
             [
              0.7777777777777778,
              "#fb9f3a"
             ],
             [
              0.8888888888888888,
              "#fdca26"
             ],
             [
              1,
              "#f0f921"
             ]
            ],
            "type": "histogram2dcontour"
           }
          ],
          "mesh3d": [
           {
            "colorbar": {
             "outlinewidth": 0,
             "ticks": ""
            },
            "type": "mesh3d"
           }
          ],
          "parcoords": [
           {
            "line": {
             "colorbar": {
              "outlinewidth": 0,
              "ticks": ""
             }
            },
            "type": "parcoords"
           }
          ],
          "pie": [
           {
            "automargin": true,
            "type": "pie"
           }
          ],
          "scatter": [
           {
            "fillpattern": {
             "fillmode": "overlay",
             "size": 10,
             "solidity": 0.2
            },
            "type": "scatter"
           }
          ],
          "scatter3d": [
           {
            "line": {
             "colorbar": {
              "outlinewidth": 0,
              "ticks": ""
             }
            },
            "marker": {
             "colorbar": {
              "outlinewidth": 0,
              "ticks": ""
             }
            },
            "type": "scatter3d"
           }
          ],
          "scattercarpet": [
           {
            "marker": {
             "colorbar": {
              "outlinewidth": 0,
              "ticks": ""
             }
            },
            "type": "scattercarpet"
           }
          ],
          "scattergeo": [
           {
            "marker": {
             "colorbar": {
              "outlinewidth": 0,
              "ticks": ""
             }
            },
            "type": "scattergeo"
           }
          ],
          "scattergl": [
           {
            "marker": {
             "colorbar": {
              "outlinewidth": 0,
              "ticks": ""
             }
            },
            "type": "scattergl"
           }
          ],
          "scattermap": [
           {
            "marker": {
             "colorbar": {
              "outlinewidth": 0,
              "ticks": ""
             }
            },
            "type": "scattermap"
           }
          ],
          "scattermapbox": [
           {
            "marker": {
             "colorbar": {
              "outlinewidth": 0,
              "ticks": ""
             }
            },
            "type": "scattermapbox"
           }
          ],
          "scatterpolar": [
           {
            "marker": {
             "colorbar": {
              "outlinewidth": 0,
              "ticks": ""
             }
            },
            "type": "scatterpolar"
           }
          ],
          "scatterpolargl": [
           {
            "marker": {
             "colorbar": {
              "outlinewidth": 0,
              "ticks": ""
             }
            },
            "type": "scatterpolargl"
           }
          ],
          "scatterternary": [
           {
            "marker": {
             "colorbar": {
              "outlinewidth": 0,
              "ticks": ""
             }
            },
            "type": "scatterternary"
           }
          ],
          "surface": [
           {
            "colorbar": {
             "outlinewidth": 0,
             "ticks": ""
            },
            "colorscale": [
             [
              0,
              "#0d0887"
             ],
             [
              0.1111111111111111,
              "#46039f"
             ],
             [
              0.2222222222222222,
              "#7201a8"
             ],
             [
              0.3333333333333333,
              "#9c179e"
             ],
             [
              0.4444444444444444,
              "#bd3786"
             ],
             [
              0.5555555555555556,
              "#d8576b"
             ],
             [
              0.6666666666666666,
              "#ed7953"
             ],
             [
              0.7777777777777778,
              "#fb9f3a"
             ],
             [
              0.8888888888888888,
              "#fdca26"
             ],
             [
              1,
              "#f0f921"
             ]
            ],
            "type": "surface"
           }
          ],
          "table": [
           {
            "cells": {
             "fill": {
              "color": "#EBF0F8"
             },
             "line": {
              "color": "white"
             }
            },
            "header": {
             "fill": {
              "color": "#C8D4E3"
             },
             "line": {
              "color": "white"
             }
            },
            "type": "table"
           }
          ]
         },
         "layout": {
          "annotationdefaults": {
           "arrowcolor": "#2a3f5f",
           "arrowhead": 0,
           "arrowwidth": 1
          },
          "autotypenumbers": "strict",
          "coloraxis": {
           "colorbar": {
            "outlinewidth": 0,
            "ticks": ""
           }
          },
          "colorscale": {
           "diverging": [
            [
             0,
             "#8e0152"
            ],
            [
             0.1,
             "#c51b7d"
            ],
            [
             0.2,
             "#de77ae"
            ],
            [
             0.3,
             "#f1b6da"
            ],
            [
             0.4,
             "#fde0ef"
            ],
            [
             0.5,
             "#f7f7f7"
            ],
            [
             0.6,
             "#e6f5d0"
            ],
            [
             0.7,
             "#b8e186"
            ],
            [
             0.8,
             "#7fbc41"
            ],
            [
             0.9,
             "#4d9221"
            ],
            [
             1,
             "#276419"
            ]
           ],
           "sequential": [
            [
             0,
             "#0d0887"
            ],
            [
             0.1111111111111111,
             "#46039f"
            ],
            [
             0.2222222222222222,
             "#7201a8"
            ],
            [
             0.3333333333333333,
             "#9c179e"
            ],
            [
             0.4444444444444444,
             "#bd3786"
            ],
            [
             0.5555555555555556,
             "#d8576b"
            ],
            [
             0.6666666666666666,
             "#ed7953"
            ],
            [
             0.7777777777777778,
             "#fb9f3a"
            ],
            [
             0.8888888888888888,
             "#fdca26"
            ],
            [
             1,
             "#f0f921"
            ]
           ],
           "sequentialminus": [
            [
             0,
             "#0d0887"
            ],
            [
             0.1111111111111111,
             "#46039f"
            ],
            [
             0.2222222222222222,
             "#7201a8"
            ],
            [
             0.3333333333333333,
             "#9c179e"
            ],
            [
             0.4444444444444444,
             "#bd3786"
            ],
            [
             0.5555555555555556,
             "#d8576b"
            ],
            [
             0.6666666666666666,
             "#ed7953"
            ],
            [
             0.7777777777777778,
             "#fb9f3a"
            ],
            [
             0.8888888888888888,
             "#fdca26"
            ],
            [
             1,
             "#f0f921"
            ]
           ]
          },
          "colorway": [
           "#636efa",
           "#EF553B",
           "#00cc96",
           "#ab63fa",
           "#FFA15A",
           "#19d3f3",
           "#FF6692",
           "#B6E880",
           "#FF97FF",
           "#FECB52"
          ],
          "font": {
           "color": "#2a3f5f"
          },
          "geo": {
           "bgcolor": "white",
           "lakecolor": "white",
           "landcolor": "#E5ECF6",
           "showlakes": true,
           "showland": true,
           "subunitcolor": "white"
          },
          "hoverlabel": {
           "align": "left"
          },
          "hovermode": "closest",
          "mapbox": {
           "style": "light"
          },
          "paper_bgcolor": "white",
          "plot_bgcolor": "#E5ECF6",
          "polar": {
           "angularaxis": {
            "gridcolor": "white",
            "linecolor": "white",
            "ticks": ""
           },
           "bgcolor": "#E5ECF6",
           "radialaxis": {
            "gridcolor": "white",
            "linecolor": "white",
            "ticks": ""
           }
          },
          "scene": {
           "xaxis": {
            "backgroundcolor": "#E5ECF6",
            "gridcolor": "white",
            "gridwidth": 2,
            "linecolor": "white",
            "showbackground": true,
            "ticks": "",
            "zerolinecolor": "white"
           },
           "yaxis": {
            "backgroundcolor": "#E5ECF6",
            "gridcolor": "white",
            "gridwidth": 2,
            "linecolor": "white",
            "showbackground": true,
            "ticks": "",
            "zerolinecolor": "white"
           },
           "zaxis": {
            "backgroundcolor": "#E5ECF6",
            "gridcolor": "white",
            "gridwidth": 2,
            "linecolor": "white",
            "showbackground": true,
            "ticks": "",
            "zerolinecolor": "white"
           }
          },
          "shapedefaults": {
           "line": {
            "color": "#2a3f5f"
           }
          },
          "ternary": {
           "aaxis": {
            "gridcolor": "white",
            "linecolor": "white",
            "ticks": ""
           },
           "baxis": {
            "gridcolor": "white",
            "linecolor": "white",
            "ticks": ""
           },
           "bgcolor": "#E5ECF6",
           "caxis": {
            "gridcolor": "white",
            "linecolor": "white",
            "ticks": ""
           }
          },
          "title": {
           "x": 0.05
          },
          "xaxis": {
           "automargin": true,
           "gridcolor": "white",
           "linecolor": "white",
           "ticks": "",
           "title": {
            "standoff": 15
           },
           "zerolinecolor": "white",
           "zerolinewidth": 2
          },
          "yaxis": {
           "automargin": true,
           "gridcolor": "white",
           "linecolor": "white",
           "ticks": "",
           "title": {
            "standoff": 15
           },
           "zerolinecolor": "white",
           "zerolinewidth": 2
          }
         }
        },
        "title": {
         "text": "NACA0008 Airfoil"
        },
        "xaxis": {
         "title": {
          "text": "x/c"
         }
        },
        "yaxis": {
         "scaleanchor": "x",
         "scaleratio": 1,
         "title": {
          "text": "y/c"
         }
        }
       }
      }
     },
     "metadata": {},
     "output_type": "display_data"
    }
   ],
   "source": [
    "fig = go.Figure()\n",
    "airfoil = Airfoil(name=\"NACA0012\")\n",
    "airfoil.draw(show=False, fig=fig, fill=False)\n",
    "airfoil2 = Airfoil(name=\"NACA0008\")\n",
    "airfoil2.draw(show=True, fig=fig, fill=False, color=\"green\")"
   ]
  },
  {
   "cell_type": "code",
   "execution_count": 3,
   "metadata": {},
   "outputs": [
    {
     "data": {
      "text/plain": [
       "{'lower_weights': array([-0.1728844 , -0.15156292, -0.17376306, -0.12768079, -0.16481846,\n",
       "        -0.126376  , -0.14589789, -0.13919961]),\n",
       " 'upper_weights': array([0.1728844 , 0.15156292, 0.17376306, 0.12768079, 0.16481846,\n",
       "        0.126376  , 0.14589789, 0.13919961]),\n",
       " 'leading_edge_weight': np.float64(3.5974444559735816e-16),\n",
       " 'TE_thickness': np.float64(0.0025478997333240466)}"
      ]
     },
     "execution_count": 3,
     "metadata": {},
     "output_type": "execute_result"
    }
   ],
   "source": [
    "kulfan = airfoil.to_kulfan_airfoil(n_weights_per_side=8)\n",
    "params = kulfan.kulfan_parameters\n",
    "params"
   ]
  },
  {
   "cell_type": "code",
   "execution_count": 4,
   "metadata": {},
   "outputs": [
    {
     "data": {
      "text/plain": [
       "(299, 2)"
      ]
     },
     "execution_count": 4,
     "metadata": {},
     "output_type": "execute_result"
    }
   ],
   "source": [
    "import numpy as np\n",
    "from scipy.special import comb\n",
    "\n",
    "def generate_airfoil(N1, N2, lower_weights, upper_weights, leading_edge_weight, TE_thickness, n_points_per_side):\n",
    "    # Gerar pontos espaçados cosinicamente\n",
    "    x = (1 - np.cos(np.linspace(0, np.pi, n_points_per_side))) / 2  \n",
    "\n",
    "    # Função Classe\n",
    "    C = (x ** N1) * ((1 - x) ** N2)\n",
    "\n",
    "    def shape_function(w):\n",
    "        # Função de forma (polinômios de Bernstein)\n",
    "        N = len(w) - 1  # Ordem dos polinômios\n",
    "\n",
    "        K = comb(N, np.arange(N + 1))  # Coeficientes binomiais de Bernstein\n",
    "\n",
    "        dims = (len(w), len(x))\n",
    "\n",
    "        def wide(vector):\n",
    "            return np.tile(np.reshape(vector, (1, dims[1])), (dims[0], 1))\n",
    "\n",
    "        def tall(vector):\n",
    "            return np.tile(np.reshape(vector, (dims[0], 1)), (1, dims[1]))\n",
    "\n",
    "        S_matrix = (\n",
    "            tall(K)\n",
    "            * wide(x) ** tall(np.arange(N + 1))\n",
    "            * wide(1 - x) ** tall(N - np.arange(N + 1))\n",
    "        )  # Polinômios de Bernstein multiplicados pelos pesos\n",
    "\n",
    "        S_x = np.sum(tall(w) * S_matrix, axis=0)\n",
    "\n",
    "        # Calcular a saída y\n",
    "        y = C * S_x\n",
    "        return y\n",
    "\n",
    "    y_lower = shape_function(lower_weights)\n",
    "    y_upper = shape_function(upper_weights)\n",
    "\n",
    "    # Espessura do bordo de fuga (TE thickness)\n",
    "    y_lower -= x * TE_thickness / 2\n",
    "    y_upper += x * TE_thickness / 2\n",
    "\n",
    "    # Modificação do bordo de ataque (LEM)\n",
    "    y_lower += leading_edge_weight * x * (1 - x) ** (len(lower_weights) + 0.5)\n",
    "    y_upper += leading_edge_weight * x * (1 - x) ** (len(upper_weights) + 0.5)\n",
    "\n",
    "    # Criar coordenadas do aerofólio\n",
    "    x = np.concatenate((x[::-1], x[1:]))\n",
    "    y = np.concatenate((y_upper[::-1], y_lower[1:]))\n",
    "    coordinates = np.stack((x, y), axis=1)\n",
    "\n",
    "    return coordinates\n",
    "\n",
    "coords = generate_airfoil(0.5, 1, params[\"lower_weights\"], params[\"upper_weights\"], 0, 0,150)\n",
    "coords.shape"
   ]
  },
  {
   "cell_type": "code",
   "execution_count": 45,
   "metadata": {},
   "outputs": [],
   "source": [
    "import numpy as np\n",
    "from scipy.special import comb\n",
    "import tensorflow as tf\n",
    "from tensorflow.keras.layers import Layer\n",
    "\n",
    "class CSTLayer(tf.keras.layers.Layer):\n",
    "    def __init__(self, **kwargs):\n",
    "        super(CSTLayer, self).__init__(**kwargs)\n",
    "        self.N1 = 0.5\n",
    "        self.N2 = 1\n",
    "        self.TE_thickness = 0.0\n",
    "        self.leading_edge_weight = 0.0\n",
    "        self.n_points_per_side = 150\n",
    "\n",
    "    def call(self, inputs):\n",
    "        # Inputs is a 3D tensor: (batch_size, 2, num_weights)\n",
    "        # For example, shape: (1, 2, 12)\n",
    "        batch_size = tf.shape(inputs)[0]\n",
    "        num_weights = tf.shape(inputs)[2]\n",
    "\n",
    "        # Reshape inputs to separate lower and upper weights\n",
    "        # Shape: (batch_size, 2, num_weights) -> (2, batch_size * num_weights)\n",
    "        inputs = tf.reshape(inputs, (batch_size * 2, num_weights))\n",
    "\n",
    "        # Split into lower and upper weights\n",
    "        lower_weights = inputs[:batch_size, :]  # Shape: (batch_size, num_weights)\n",
    "        upper_weights = inputs[batch_size:, :]  # Shape: (batch_size, num_weights)\n",
    "\n",
    "        # Generate cosinically spaced points\n",
    "        x = (1 - tf.cos(tf.linspace(0.0, np.pi, self.n_points_per_side))) / 2\n",
    "\n",
    "        # Class function\n",
    "        C = (x ** self.N1) * ((1 - x) ** self.N2)\n",
    "\n",
    "        def shape_function(w):\n",
    "            # Shape function (Bernstein polynomials)\n",
    "            N = tf.cast(tf.shape(w)[1] - 1, dtype=tf.float32)  # num_weights - 1\n",
    "\n",
    "            # Bernstein binomial coefficients\n",
    "            K = tf.cast(comb(N.numpy(), np.arange(N.numpy() + 1)), dtype=tf.float32)\n",
    "\n",
    "            dims = (tf.shape(w)[1], tf.shape(x)[0])\n",
    "\n",
    "            def wide(vector):\n",
    "                return tf.tile(tf.reshape(vector, (1, dims[1])), (dims[0], 1))\n",
    "\n",
    "            def tall(vector):\n",
    "                return tf.tile(tf.reshape(vector, (dims[0], 1)), (1, dims[1]))\n",
    "\n",
    "            S_matrix = (\n",
    "                tall(K)\n",
    "                * wide(x) ** tall(tf.cast(np.arange(N + 1), dtype=tf.float32))\n",
    "                * wide(1 - x) ** tall(tf.cast(N - np.arange(N + 1), dtype=tf.float32))\n",
    "            )  # Bernstein polynomials multiplied by weights\n",
    "\n",
    "            S_x = tf.reduce_sum(tall(w) * S_matrix, axis=0)\n",
    "\n",
    "            # Calculate the output y\n",
    "            y = C * S_x\n",
    "            return y\n",
    "\n",
    "        # Apply shape function to lower and upper weights\n",
    "        y_lower = shape_function(lower_weights)\n",
    "        y_upper = shape_function(upper_weights)\n",
    "\n",
    "        # Trailing edge thickness (TE thickness)\n",
    "        y_lower -= x * self.TE_thickness / 2\n",
    "        y_upper += x * self.TE_thickness / 2\n",
    "\n",
    "        # Leading edge modification (LEM)\n",
    "        y_lower += self.leading_edge_weight * x * (1 - x) ** (tf.cast(tf.shape(lower_weights)[1], dtype=tf.float32) + 0.5)\n",
    "        y_upper += self.leading_edge_weight * x * (1 - x) ** (tf.cast(tf.shape(upper_weights)[1], dtype=tf.float32) + 0.5)\n",
    "\n",
    "        # Create airfoil coordinates\n",
    "        x = tf.concat([x[::-1], x[1:]], axis=0)\n",
    "        y = tf.concat([y_upper[::-1], y_lower[1:]], axis=0)\n",
    "        coordinates = tf.stack([x, y], axis=1)\n",
    "\n",
    "        return coordinates"
   ]
  },
  {
   "cell_type": "code",
   "execution_count": 46,
   "metadata": {},
   "outputs": [
    {
     "name": "stdout",
     "output_type": "stream",
     "text": [
      "(299, 2)\n"
     ]
    }
   ],
   "source": [
    "# Example input tensor from Conv2D layer\n",
    "input_tensor = tf.random.normal((1, 2, 12))  # Shape: (1, 2, 12)\n",
    "\n",
    "# Instantiate CSTLayer\n",
    "cst_layer = CSTLayer()\n",
    "\n",
    "# Pass input through CSTLayer\n",
    "output_coordinates = cst_layer(input_tensor)"
   ]
  },
  {
   "cell_type": "code",
   "execution_count": 44,
   "metadata": {},
   "outputs": [
    {
     "data": {
      "application/vnd.plotly.v1+json": {
       "config": {
        "plotlyServerURL": "https://plot.ly"
       },
       "data": [
        {
         "fill": "toself",
         "line": {
          "color": "blue"
         },
         "mode": "lines+markers",
         "name": "NACA8808",
         "type": "scatter",
         "x": {
          "bdata": "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",
          "dtype": "f8"
         },
         "y": {
          "bdata": "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",
          "dtype": "f8"
         }
        },
        {
         "fill": "toself",
         "line": {
          "color": "red"
         },
         "mode": "lines+markers",
         "name": "Untitled",
         "type": "scatter",
         "x": {
          "bdata": "AACAP7j4fz/e4n8/eL5/P4iLfz8USn8/JPp+P8Cbfj/0Ln4/zLN9P1YqfT+gknw/vux7P8I4ez/Adno/zaZ5PwPJeD963Xc/TeR2P5jddT95yXQ/EKhzP315cj/jPXE/ZvVvPyygbj9bPm0/G9BrP5ZVaj/2zmg/ajxnPx6eZT9C9GM/Bj9iP5x+YD81s14/CN1cP0r8Wj8xEVk/9RtXP9AcVT/8E1M/sgFRPzDmTj+0wUw/e5RKP8ZeSD/UIEY/6dpDP0SNQT8oOD8/2ts8P6B4Oj+/Djg/fJ41PyAoMz/xqzA/OCouPz6jKz9NFyk/roYmP67xIz+WWCE/srseP08bHD+6dxk/PtEWPyooFD/KfBE/bs8OP2EgDD/zbwk/c74GPy0MBD9yWQE/Hk39Pqnn9z4eg/I+HCDtPkC/5z4oYeI+bgbdPq6v1z6FXdI+jxDNPmPJxz6diMI+2E69PqccuD6l8rI+aNGtPoa5qD6Sq6M+IKiePsGvmT4Jw5Q+hOKPPsAOiz5MSIY+tI+BPvrKeT5klHA+snxnPuyEXj4YrlU+NvlMPkZnRD5A+Ts+GLAzPsSMKz4ukCM+QLsbPtwOFD7iiww+LjMFPjAL/D3YB+499F3gPRQP0z2wHMY9UIi5PVhTrT0wf6E9MA2WPaT+ij3QVIA90CFsPThoWD0Qf0U9eGgzPZAmIj1AuxE9aCgCPbDf5jxgJss8ICixPNDnmDxAaII8AFhbPMBqNTwgDRM8AIboOwAgsjtA7oI7AOw1OwDw6DoAEIM6AAzpOQAQ6TgAAAAAABDpOAAM6TkAEIM6APDoOgDsNTtA7oI7ACCyOwCG6DsgDRM8wGo1PABYWzxAaII80OeYPCAosTxgJss8sN/mPGgoAj1AuxE9kCYiPXhoMz0Qf0U9OGhYPdAhbD3QVIA9pP6KPTANlj0wf6E9WFOtPVCIuT2wHMY9FA/TPfRd4D3YB+49MAv8PS4zBT7iiww+3A4UPkC7Gz4ukCM+xIwrPhiwMz5A+Ts+RmdEPjb5TD4YrlU+7IRePrJ8Zz5klHA++sp5PrSPgT5MSIY+wA6LPoTijz4Jw5Q+wa+ZPiConj6Sq6M+hrmoPmjRrT6l8rI+pxy4PthOvT6diMI+Y8nHPo8QzT6FXdI+rq/XPm4G3T4oYeI+QL/nPhwg7T4eg/I+qef3Ph5N/T5yWQE/LQwEP3O+Bj/zbwk/YSAMP27PDj/KfBE/KigUPz7RFj+6dxk/TxscP7K7Hj+WWCE/rvEjP66GJj9NFyk/PqMrPzgqLj/xqzA/ICgzP3yeNT+/Djg/oHg6P9rbPD8oOD8/RI1BP+naQz/UIEY/xl5IP3uUSj+0wUw/MOZOP7IBUT/8E1M/0BxVP/UbVz8xEVk/SvxaPwjdXD81s14/nH5gPwY/Yj9C9GM/Hp5lP2o8Zz/2zmg/llVqPxvQaz9bPm0/LKBuP2b1bz/jPXE/fXlyPxCocz95yXQ/mN11P03kdj963Xc/A8l4P82meT/Adno/wjh7P77sez+gknw/Vip9P8yzfT/0Ln4/wJt+PyT6fj8USn8/iIt/P3i+fz/e4n8/uPh/PwAAgD8=",
          "dtype": "f4"
         },
         "y": {
          "bdata": "AAAAAHQ94TiG4uA5hCh8OgMk3zp2WS07kvJ3OxRxpztV0Ng7nOgHPIAWJjxLz0Y8mvBpPCSthzzFdps8akawPD4NxjyevNw8DEX0PO5KBj04zhI91qEfPdq5LD2hCDo91X5HPWYLVT27m2I90RtwPaN2fT1IS4U947KLPYjnkT0X35c9SJCdPenyoj0xAKg907KsPUMHsT3L+7Q9hJC4PVbHuz3Qo749DyvBPV9jwz0dVMU9UgXHPWN/yD2/ysk9m+/KPaD1yz2w48w9tr/NPYqOzj3RU889DRLQPY7K0D2jfdE9pSrSPTPQ0j1gbNM91fzTPQ5/1D2P8NQ9/E7VPT+Y1T2uytU9BOXVPXDm1T2fztU9mJ3VPcFT1T278dQ9UnjUPWXo0z3TQtM9TIjSPXa50T2l1tA9EeDPPanVzj0pt809KYTMPRw8yz2B3sk9pmrIPSvgxj2sPsU95oXDPdu1wT3Nzr89CtG9PUe9uz09lLk91la3PQ0GtT3horI9UC6wPVSprT3KFKs9aHGoPcy/pT1oAKM9oDOgPZ1ZnT2Zcpo9nH6XPcd9lD0rcJE93VWOPRIviz0A/Ic9Bb2EPX1ygT3BOXw9RHl1Pbikbj0LvWc9VcNgPXi4WT1OnVI9qnJLPTU5RD2Z8Tw9hZw1Pbg6Lj0dzSY95FQfPYfTFz3yShA9Yb0IPbEtAT0aPvM8MyrkPJcn1Ty0PsY8D3i3PAHcqDxicpo8MkKMPCqifDxSRmE8NHVGPDIvLDwFcBI8jl3yOw+9wDtW3I87wCM/O0W5vjoAAAAAyqOIukbtB7vvHkq7VyCFu7ndo7ucBcG7J2HcuxzG9btoiwa88SARvAShGrw7DiO8zm8qvHzQMLy2PTa8ccY6vDF6PrwGaEG8651DvPYnRbwUEEa8g11GvBsVRrwfOUW8uslDvDnFQbyrKD+8QfA7vN8XOLyCmzO8tHcuvLypKLztLyK8ngkbvCg3E7zSuQq8bpMBvO+M77vfqtq7DYbEuw8jrbsIhpS7B2V1u1xWP7vM5Aa7kyqYum7SbrkZL0I65pTkOjlANjsOWXw7rD2iO5xExzvQLu07AvQJPDCtHTwetzE8IwZGPJqOWjzbRW88+hCCPBuNjDzGE5c8S6KhPIk2rDwbz7Y8/mrBPJAJzDw3qtY87UvhPHHt6zzKjPY8eZMAPR7cBT3vHQs9IVYQPa+BFT0xnRo9XaUfPQWXJD1Xbyk9HCwuPcXLMj21TTc9VLI7PfT6Pz3KKUQ9+kFIPTdHTD14PVA9qihUPVsMWD0161s9ecZfPe6dYz0yb2c9lTVrPePpbj1mgnI92PJ1PZkseT0hH3w9VLh+PYVygD3oSIE9xdWBPQ4Qgj2c74E9hG2BPVmEgD3hYH49IuB6PRGHdj1aWnE9tWJrPZSsZD2mR109YkZVPWO9TD27wkM9NW06PbnTMD2LDCc9xSwdPeZHEz1pbwk9U2X/PHc97DwOfdk8xzXHPO11tTz6SKQ8aLiTPJXMgzzNGmk8ygZMPI9vMDxZahY84x78O8D1zjtzlaU7oT6AO1xnPjusbQU7vxesOqvHQjrP6a05fU+uOAAAAAA=",
          "dtype": "f4"
         }
        }
       ],
       "layout": {
        "template": {
         "data": {
          "bar": [
           {
            "error_x": {
             "color": "#2a3f5f"
            },
            "error_y": {
             "color": "#2a3f5f"
            },
            "marker": {
             "line": {
              "color": "#E5ECF6",
              "width": 0.5
             },
             "pattern": {
              "fillmode": "overlay",
              "size": 10,
              "solidity": 0.2
             }
            },
            "type": "bar"
           }
          ],
          "barpolar": [
           {
            "marker": {
             "line": {
              "color": "#E5ECF6",
              "width": 0.5
             },
             "pattern": {
              "fillmode": "overlay",
              "size": 10,
              "solidity": 0.2
             }
            },
            "type": "barpolar"
           }
          ],
          "carpet": [
           {
            "aaxis": {
             "endlinecolor": "#2a3f5f",
             "gridcolor": "white",
             "linecolor": "white",
             "minorgridcolor": "white",
             "startlinecolor": "#2a3f5f"
            },
            "baxis": {
             "endlinecolor": "#2a3f5f",
             "gridcolor": "white",
             "linecolor": "white",
             "minorgridcolor": "white",
             "startlinecolor": "#2a3f5f"
            },
            "type": "carpet"
           }
          ],
          "choropleth": [
           {
            "colorbar": {
             "outlinewidth": 0,
             "ticks": ""
            },
            "type": "choropleth"
           }
          ],
          "contour": [
           {
            "colorbar": {
             "outlinewidth": 0,
             "ticks": ""
            },
            "colorscale": [
             [
              0,
              "#0d0887"
             ],
             [
              0.1111111111111111,
              "#46039f"
             ],
             [
              0.2222222222222222,
              "#7201a8"
             ],
             [
              0.3333333333333333,
              "#9c179e"
             ],
             [
              0.4444444444444444,
              "#bd3786"
             ],
             [
              0.5555555555555556,
              "#d8576b"
             ],
             [
              0.6666666666666666,
              "#ed7953"
             ],
             [
              0.7777777777777778,
              "#fb9f3a"
             ],
             [
              0.8888888888888888,
              "#fdca26"
             ],
             [
              1,
              "#f0f921"
             ]
            ],
            "type": "contour"
           }
          ],
          "contourcarpet": [
           {
            "colorbar": {
             "outlinewidth": 0,
             "ticks": ""
            },
            "type": "contourcarpet"
           }
          ],
          "heatmap": [
           {
            "colorbar": {
             "outlinewidth": 0,
             "ticks": ""
            },
            "colorscale": [
             [
              0,
              "#0d0887"
             ],
             [
              0.1111111111111111,
              "#46039f"
             ],
             [
              0.2222222222222222,
              "#7201a8"
             ],
             [
              0.3333333333333333,
              "#9c179e"
             ],
             [
              0.4444444444444444,
              "#bd3786"
             ],
             [
              0.5555555555555556,
              "#d8576b"
             ],
             [
              0.6666666666666666,
              "#ed7953"
             ],
             [
              0.7777777777777778,
              "#fb9f3a"
             ],
             [
              0.8888888888888888,
              "#fdca26"
             ],
             [
              1,
              "#f0f921"
             ]
            ],
            "type": "heatmap"
           }
          ],
          "histogram": [
           {
            "marker": {
             "pattern": {
              "fillmode": "overlay",
              "size": 10,
              "solidity": 0.2
             }
            },
            "type": "histogram"
           }
          ],
          "histogram2d": [
           {
            "colorbar": {
             "outlinewidth": 0,
             "ticks": ""
            },
            "colorscale": [
             [
              0,
              "#0d0887"
             ],
             [
              0.1111111111111111,
              "#46039f"
             ],
             [
              0.2222222222222222,
              "#7201a8"
             ],
             [
              0.3333333333333333,
              "#9c179e"
             ],
             [
              0.4444444444444444,
              "#bd3786"
             ],
             [
              0.5555555555555556,
              "#d8576b"
             ],
             [
              0.6666666666666666,
              "#ed7953"
             ],
             [
              0.7777777777777778,
              "#fb9f3a"
             ],
             [
              0.8888888888888888,
              "#fdca26"
             ],
             [
              1,
              "#f0f921"
             ]
            ],
            "type": "histogram2d"
           }
          ],
          "histogram2dcontour": [
           {
            "colorbar": {
             "outlinewidth": 0,
             "ticks": ""
            },
            "colorscale": [
             [
              0,
              "#0d0887"
             ],
             [
              0.1111111111111111,
              "#46039f"
             ],
             [
              0.2222222222222222,
              "#7201a8"
             ],
             [
              0.3333333333333333,
              "#9c179e"
             ],
             [
              0.4444444444444444,
              "#bd3786"
             ],
             [
              0.5555555555555556,
              "#d8576b"
             ],
             [
              0.6666666666666666,
              "#ed7953"
             ],
             [
              0.7777777777777778,
              "#fb9f3a"
             ],
             [
              0.8888888888888888,
              "#fdca26"
             ],
             [
              1,
              "#f0f921"
             ]
            ],
            "type": "histogram2dcontour"
           }
          ],
          "mesh3d": [
           {
            "colorbar": {
             "outlinewidth": 0,
             "ticks": ""
            },
            "type": "mesh3d"
           }
          ],
          "parcoords": [
           {
            "line": {
             "colorbar": {
              "outlinewidth": 0,
              "ticks": ""
             }
            },
            "type": "parcoords"
           }
          ],
          "pie": [
           {
            "automargin": true,
            "type": "pie"
           }
          ],
          "scatter": [
           {
            "fillpattern": {
             "fillmode": "overlay",
             "size": 10,
             "solidity": 0.2
            },
            "type": "scatter"
           }
          ],
          "scatter3d": [
           {
            "line": {
             "colorbar": {
              "outlinewidth": 0,
              "ticks": ""
             }
            },
            "marker": {
             "colorbar": {
              "outlinewidth": 0,
              "ticks": ""
             }
            },
            "type": "scatter3d"
           }
          ],
          "scattercarpet": [
           {
            "marker": {
             "colorbar": {
              "outlinewidth": 0,
              "ticks": ""
             }
            },
            "type": "scattercarpet"
           }
          ],
          "scattergeo": [
           {
            "marker": {
             "colorbar": {
              "outlinewidth": 0,
              "ticks": ""
             }
            },
            "type": "scattergeo"
           }
          ],
          "scattergl": [
           {
            "marker": {
             "colorbar": {
              "outlinewidth": 0,
              "ticks": ""
             }
            },
            "type": "scattergl"
           }
          ],
          "scattermap": [
           {
            "marker": {
             "colorbar": {
              "outlinewidth": 0,
              "ticks": ""
             }
            },
            "type": "scattermap"
           }
          ],
          "scattermapbox": [
           {
            "marker": {
             "colorbar": {
              "outlinewidth": 0,
              "ticks": ""
             }
            },
            "type": "scattermapbox"
           }
          ],
          "scatterpolar": [
           {
            "marker": {
             "colorbar": {
              "outlinewidth": 0,
              "ticks": ""
             }
            },
            "type": "scatterpolar"
           }
          ],
          "scatterpolargl": [
           {
            "marker": {
             "colorbar": {
              "outlinewidth": 0,
              "ticks": ""
             }
            },
            "type": "scatterpolargl"
           }
          ],
          "scatterternary": [
           {
            "marker": {
             "colorbar": {
              "outlinewidth": 0,
              "ticks": ""
             }
            },
            "type": "scatterternary"
           }
          ],
          "surface": [
           {
            "colorbar": {
             "outlinewidth": 0,
             "ticks": ""
            },
            "colorscale": [
             [
              0,
              "#0d0887"
             ],
             [
              0.1111111111111111,
              "#46039f"
             ],
             [
              0.2222222222222222,
              "#7201a8"
             ],
             [
              0.3333333333333333,
              "#9c179e"
             ],
             [
              0.4444444444444444,
              "#bd3786"
             ],
             [
              0.5555555555555556,
              "#d8576b"
             ],
             [
              0.6666666666666666,
              "#ed7953"
             ],
             [
              0.7777777777777778,
              "#fb9f3a"
             ],
             [
              0.8888888888888888,
              "#fdca26"
             ],
             [
              1,
              "#f0f921"
             ]
            ],
            "type": "surface"
           }
          ],
          "table": [
           {
            "cells": {
             "fill": {
              "color": "#EBF0F8"
             },
             "line": {
              "color": "white"
             }
            },
            "header": {
             "fill": {
              "color": "#C8D4E3"
             },
             "line": {
              "color": "white"
             }
            },
            "type": "table"
           }
          ]
         },
         "layout": {
          "annotationdefaults": {
           "arrowcolor": "#2a3f5f",
           "arrowhead": 0,
           "arrowwidth": 1
          },
          "autotypenumbers": "strict",
          "coloraxis": {
           "colorbar": {
            "outlinewidth": 0,
            "ticks": ""
           }
          },
          "colorscale": {
           "diverging": [
            [
             0,
             "#8e0152"
            ],
            [
             0.1,
             "#c51b7d"
            ],
            [
             0.2,
             "#de77ae"
            ],
            [
             0.3,
             "#f1b6da"
            ],
            [
             0.4,
             "#fde0ef"
            ],
            [
             0.5,
             "#f7f7f7"
            ],
            [
             0.6,
             "#e6f5d0"
            ],
            [
             0.7,
             "#b8e186"
            ],
            [
             0.8,
             "#7fbc41"
            ],
            [
             0.9,
             "#4d9221"
            ],
            [
             1,
             "#276419"
            ]
           ],
           "sequential": [
            [
             0,
             "#0d0887"
            ],
            [
             0.1111111111111111,
             "#46039f"
            ],
            [
             0.2222222222222222,
             "#7201a8"
            ],
            [
             0.3333333333333333,
             "#9c179e"
            ],
            [
             0.4444444444444444,
             "#bd3786"
            ],
            [
             0.5555555555555556,
             "#d8576b"
            ],
            [
             0.6666666666666666,
             "#ed7953"
            ],
            [
             0.7777777777777778,
             "#fb9f3a"
            ],
            [
             0.8888888888888888,
             "#fdca26"
            ],
            [
             1,
             "#f0f921"
            ]
           ],
           "sequentialminus": [
            [
             0,
             "#0d0887"
            ],
            [
             0.1111111111111111,
             "#46039f"
            ],
            [
             0.2222222222222222,
             "#7201a8"
            ],
            [
             0.3333333333333333,
             "#9c179e"
            ],
            [
             0.4444444444444444,
             "#bd3786"
            ],
            [
             0.5555555555555556,
             "#d8576b"
            ],
            [
             0.6666666666666666,
             "#ed7953"
            ],
            [
             0.7777777777777778,
             "#fb9f3a"
            ],
            [
             0.8888888888888888,
             "#fdca26"
            ],
            [
             1,
             "#f0f921"
            ]
           ]
          },
          "colorway": [
           "#636efa",
           "#EF553B",
           "#00cc96",
           "#ab63fa",
           "#FFA15A",
           "#19d3f3",
           "#FF6692",
           "#B6E880",
           "#FF97FF",
           "#FECB52"
          ],
          "font": {
           "color": "#2a3f5f"
          },
          "geo": {
           "bgcolor": "white",
           "lakecolor": "white",
           "landcolor": "#E5ECF6",
           "showlakes": true,
           "showland": true,
           "subunitcolor": "white"
          },
          "hoverlabel": {
           "align": "left"
          },
          "hovermode": "closest",
          "mapbox": {
           "style": "light"
          },
          "paper_bgcolor": "white",
          "plot_bgcolor": "#E5ECF6",
          "polar": {
           "angularaxis": {
            "gridcolor": "white",
            "linecolor": "white",
            "ticks": ""
           },
           "bgcolor": "#E5ECF6",
           "radialaxis": {
            "gridcolor": "white",
            "linecolor": "white",
            "ticks": ""
           }
          },
          "scene": {
           "xaxis": {
            "backgroundcolor": "#E5ECF6",
            "gridcolor": "white",
            "gridwidth": 2,
            "linecolor": "white",
            "showbackground": true,
            "ticks": "",
            "zerolinecolor": "white"
           },
           "yaxis": {
            "backgroundcolor": "#E5ECF6",
            "gridcolor": "white",
            "gridwidth": 2,
            "linecolor": "white",
            "showbackground": true,
            "ticks": "",
            "zerolinecolor": "white"
           },
           "zaxis": {
            "backgroundcolor": "#E5ECF6",
            "gridcolor": "white",
            "gridwidth": 2,
            "linecolor": "white",
            "showbackground": true,
            "ticks": "",
            "zerolinecolor": "white"
           }
          },
          "shapedefaults": {
           "line": {
            "color": "#2a3f5f"
           }
          },
          "ternary": {
           "aaxis": {
            "gridcolor": "white",
            "linecolor": "white",
            "ticks": ""
           },
           "baxis": {
            "gridcolor": "white",
            "linecolor": "white",
            "ticks": ""
           },
           "bgcolor": "#E5ECF6",
           "caxis": {
            "gridcolor": "white",
            "linecolor": "white",
            "ticks": ""
           }
          },
          "title": {
           "x": 0.05
          },
          "xaxis": {
           "automargin": true,
           "gridcolor": "white",
           "linecolor": "white",
           "ticks": "",
           "title": {
            "standoff": 15
           },
           "zerolinecolor": "white",
           "zerolinewidth": 2
          },
          "yaxis": {
           "automargin": true,
           "gridcolor": "white",
           "linecolor": "white",
           "ticks": "",
           "title": {
            "standoff": 15
           },
           "zerolinecolor": "white",
           "zerolinewidth": 2
          }
         }
        },
        "title": {
         "text": "Untitled Airfoil"
        },
        "xaxis": {
         "title": {
          "text": "x/c"
         }
        },
        "yaxis": {
         "scaleanchor": "x",
         "scaleratio": 1,
         "title": {
          "text": "y/c"
         }
        }
       }
      }
     },
     "metadata": {},
     "output_type": "display_data"
    }
   ],
   "source": [
    "fig = go.Figure()\n",
    "\n",
    "airfoil = Airfoil(name=\"NACA8808\")\n",
    "airfoil.draw(fig=fig, show=False)\n",
    "\n",
    "kulfan = airfoil.to_kulfan_airfoil(12)\n",
    "np.array([kulfan.lower_weights, kulfan.upper_weights]).shape\n",
    "\n",
    "layer = CSTLayer()\n",
    "coords = layer(np.array([kulfan.lower_weights, kulfan.upper_weights]))\n",
    "\n",
    "test = Airfoil(coordinates=coords)\n",
    "test.draw(fig=fig, color=\"red\")"
   ]
  },
  {
   "cell_type": "code",
   "execution_count": 53,
   "metadata": {},
   "outputs": [
    {
     "data": {
      "text/plain": [
       "(149, 2)"
      ]
     },
     "execution_count": 53,
     "metadata": {},
     "output_type": "execute_result"
    }
   ],
   "source": [
    "airfoil = Airfoil(\"NACA0012\")\n",
    "airfoil.coordinates.shape\n",
    "airfoil = airfoil.repanel(75)\n",
    "airfoil.coordinates.shape"
   ]
  },
  {
   "cell_type": "code",
   "execution_count": null,
   "metadata": {},
   "outputs": [],
   "source": [
    "fig = go.Figure()\n",
    "airfoil = Airfoil(name=\"NACA4412\")\n",
    "airfoil.draw(show=False, fig=fig, fill=False)\n",
    "random_kulfan = KulfanAirfoil(lower_weights=np.array([1, 1]), upper_weights=np.array([0.2,0.2]), leading_edge_weight=0, TE_thickness=0, N1=0.5, N2=1)\n",
    "random_kulfan.draw(fig=fig, show=True, fill=False, color=\"green\")"
   ]
  },
  {
   "cell_type": "code",
   "execution_count": null,
   "metadata": {},
   "outputs": [],
   "source": [
    "from src import run_xfoil\n",
    "output = run_xfoil(airfoil, 0, 80, 2)\n",
    "output"
   ]
  },
  {
   "cell_type": "code",
   "execution_count": null,
   "metadata": {},
   "outputs": [],
   "source": [
    "output = airfoil.generate_polars(alpha_i=-5, alpha_f=20, alpha_step=0.25)"
   ]
  },
  {
   "cell_type": "code",
   "execution_count": null,
   "metadata": {},
   "outputs": [],
   "source": [
    "airfoil.plot_polars()"
   ]
  },
  {
   "cell_type": "code",
   "execution_count": null,
   "metadata": {},
   "outputs": [],
   "source": [
    "airfoil.polars[0]"
   ]
  },
  {
   "cell_type": "code",
   "execution_count": 3,
   "metadata": {},
   "outputs": [],
   "source": [
    "airfoil_database_path = asb._asb_root / \"geometry\" / \"airfoil\" / \"airfoil_database\"\n",
    "\n",
    "UIUC_airfoils = [\n",
    "    asb.Airfoil(name=filename.stem).normalize()\n",
    "    for filename in airfoil_database_path.iterdir() if filename.suffix == \".dat\"\n",
    "]"
   ]
  },
  {
   "cell_type": "code",
   "execution_count": 11,
   "metadata": {},
   "outputs": [],
   "source": [
    "rand_airfoil = lambda: np.random.choice(UIUC_airfoils)\n",
    "airfoil = rand_airfoil()"
   ]
  },
  {
   "cell_type": "code",
   "execution_count": null,
   "metadata": {},
   "outputs": [],
   "source": [
    "airfoil.generate_polars()\n",
    "airfoil.plot_polars()"
   ]
  }
 ],
 "metadata": {
  "kernelspec": {
   "display_name": ".venv",
   "language": "python",
   "name": "python3"
  },
  "language_info": {
   "codemirror_mode": {
    "name": "ipython",
    "version": 3
   },
   "file_extension": ".py",
   "mimetype": "text/x-python",
   "name": "python",
   "nbconvert_exporter": "python",
   "pygments_lexer": "ipython3",
   "version": "3.13.5"
  }
 },
 "nbformat": 4,
 "nbformat_minor": 2
}
